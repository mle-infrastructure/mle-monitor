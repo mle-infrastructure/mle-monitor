{
 "cells": [
  {
   "cell_type": "markdown",
   "id": "08f9d077-64ed-4dc3-b772-498569e96d2b",
   "metadata": {
    "tags": []
   },
   "source": [
    "# `mle-monitor`: Lightweight Resource Monitoring\n",
    "### Author: [@RobertTLange](https://twitter.com/RobertTLange) [Last Update: October 2021][![Colab](https://colab.research.google.com/assets/colab-badge.svg)](https://colab.research.google.com/github/RobertTLange/mle-monitor/blob/main/examples/getting_started.ipynb)"
   ]
  },
  {
   "cell_type": "code",
   "execution_count": 1,
   "id": "b1ff5d35-b29e-4386-b423-9c83ad1ae169",
   "metadata": {},
   "outputs": [],
   "source": [
    "%load_ext autoreload\n",
    "%autoreload 2\n",
    "%config InlineBackend.figure_format = 'retina'\n",
    "\n",
    "try:\n",
    "    import mle_monitor\n",
    "except:\n",
    "    !pip install -q mle-monitor\n",
    "    import mle_monitor"
   ]
  },
  {
   "cell_type": "markdown",
   "id": "255b0522-6c4b-440d-8dca-345ba9e8a461",
   "metadata": {},
   "source": [
    "# Pillar I: `MLEProtocol`"
   ]
  },
  {
   "cell_type": "code",
   "execution_count": 2,
   "id": "44a221b5-758b-491b-b206-65c3bddeeddb",
   "metadata": {},
   "outputs": [],
   "source": [
    "from mle_monitor import MLEProtocol\n",
    "\n",
    "# Load the protocol from a local file (create new if it doesn't exist yet)\n",
    "protocol = MLEProtocol(protocol_fname=\"mle_protocol.db\")"
   ]
  },
  {
   "cell_type": "code",
   "execution_count": 3,
   "id": "d65bcced-fa6f-4865-939f-b8d35203b05f",
   "metadata": {},
   "outputs": [
    {
     "data": {
      "text/plain": [
       "{'purpose': 'Test Protocol',\n",
       " 'project_name': 'MNIST',\n",
       " 'exec_resource': 'local',\n",
       " 'experiment_dir': 'log_dir',\n",
       " 'experiment_type': 'hyperparameter-search',\n",
       " 'base_fname': 'main.py',\n",
       " 'config_fname': 'base_config.json',\n",
       " 'num_seeds': 5,\n",
       " 'num_total_jobs': 10,\n",
       " 'num_jobs_per_batch': 5,\n",
       " 'num_job_batches': 2,\n",
       " 'time_per_job': '00:05:00',\n",
       " 'num_cpus': 2,\n",
       " 'num_gpus': 1,\n",
       " 'git_hash': '7b551b3488eb9b8a9b053e5e4d0ef3b7ed324f65',\n",
       " 'loaded_config': [{'train_config': {'lrate': 0.1},\n",
       "   'model_config': {'num_layers': 5},\n",
       "   'log_config': {'time_to_track': ['step_counter'],\n",
       "    'what_to_track': ['loss'],\n",
       "    'time_to_print': ['step_counter'],\n",
       "    'what_to_print': ['loss'],\n",
       "    'print_every_k_updates': 10,\n",
       "    'overwrite_experiment_dir': 1}}],\n",
       " 'e-hash': '001881ef046f5150291e672a57ca7090',\n",
       " 'retrieved_results': False,\n",
       " 'stored_in_cloud': False,\n",
       " 'report_generated': False,\n",
       " 'job_status': 'running',\n",
       " 'start_time': '10/29/2021 14:06:57',\n",
       " 'duration': '00:10:00',\n",
       " 'stop_time': '10/30/2021 00:06:57'}"
      ]
     },
     "execution_count": 9,
     "metadata": {},
     "output_type": "execute_result"
    }
   ],
   "source": [
    "experiment_data = {\"purpose\": \"Test Protocol\",\n",
    "                   \"project_name\": \"MNIST\",\n",
    "                   \"exec_resource\": \"local\",\n",
    "                   \"experiment_dir\": \"log_dir\",\n",
    "                   \"experiment_type\": \"hyperparameter-search\",\n",
    "                   \"base_fname\": \"main.py\",\n",
    "                   \"config_fname\": \"base_config.json\",\n",
    "                   \"num_seeds\": 5,\n",
    "                   \"num_total_jobs\": 10,\n",
    "                   \"num_jobs_per_batch\": 5,\n",
    "                   \"num_job_batches\": 2,\n",
    "                   \"time_per_job\": \"00:05:00\",  # days-hours-minutes\n",
    "                   \"num_cpus\": 2,\n",
    "                   \"num_gpus\": 1} \n",
    "e_id = protocol.add(experiment_data, save=False)\n",
    "protocol.get(e_id)"
   ]
  },
  {
   "cell_type": "code",
   "execution_count": 4,
   "id": "e13d7d30-8d6b-49d0-b3c0-427654a19383",
   "metadata": {},
   "outputs": [
    {
     "data": {
      "text/html": [
       "<pre style=\"white-space:pre;overflow-x:auto;line-height:normal;font-family:Menlo,'DejaVu Sans Mono',consolas,'Courier New',monospace\"><span style=\"color: #000080; text-decoration-color: #000080\">                                                                 </span>                            \n",
       "<span style=\"color: #000080; text-decoration-color: #000080\"> </span><span style=\"color: #000080; text-decoration-color: #000080; font-weight: bold\"> </span><span style=\"color: #008000; text-decoration-color: #008000; font-weight: bold\">✔</span><span style=\"color: #000080; text-decoration-color: #000080; font-weight: bold\">/</span><span style=\"color: #800000; text-decoration-color: #800000; font-weight: bold\">✖</span><span style=\"color: #000080; text-decoration-color: #000080; font-weight: bold\"> </span><span style=\"color: #000080; text-decoration-color: #000080\"> </span><span style=\"color: #000080; text-decoration-color: #000080; font-weight: bold\"> E-ID </span><span style=\"color: #000080; text-decoration-color: #000080\"> </span><span style=\"color: #000080; text-decoration-color: #000080; font-weight: bold\"> Date  </span><span style=\"color: #000080; text-decoration-color: #000080\"> </span><span style=\"color: #000080; text-decoration-color: #000080; font-weight: bold\"> Project </span><span style=\"color: #000080; text-decoration-color: #000080\"> </span><span style=\"color: #000080; text-decoration-color: #000080; font-weight: bold\"> Purpose       </span><span style=\"color: #000080; text-decoration-color: #000080\"> </span><span style=\"color: #000080; text-decoration-color: #000080; font-weight: bold\"> Type   </span><span style=\"color: #000080; text-decoration-color: #000080\"> </span><span style=\"color: #000080; text-decoration-color: #000080; font-weight: bold\">   </span><span style=\"color: #808000; text-decoration-color: #808000; font-weight: bold\">▶</span><span style=\"color: #000080; text-decoration-color: #000080; font-weight: bold\">   </span><span style=\"color: #000080; text-decoration-color: #000080\"> </span>                            \n",
       "<span style=\"color: #000080; text-decoration-color: #000080\"> ─────────────────────────────────────────────────────────────── </span>                            \n",
       "<span style=\"color: #000080; text-decoration-color: #000080\"> </span> <span style=\"color: #800080; text-decoration-color: #800080\"> ⠋ </span> <span style=\"color: #000080; text-decoration-color: #000080\"> </span> 1    <span style=\"color: #000080; text-decoration-color: #000080\"> </span> 10/29 <span style=\"color: #000080; text-decoration-color: #000080\"> </span> MNIST   <span style=\"color: #000080; text-decoration-color: #000080\"> </span> Test Protocol <span style=\"color: #000080; text-decoration-color: #000080\"> </span> search <span style=\"color: #000080; text-decoration-color: #000080\"> </span> Local <span style=\"color: #000080; text-decoration-color: #000080\"> </span>                            \n",
       "<span style=\"color: #000080; text-decoration-color: #000080\">                                                                 </span>                            \n",
       "</pre>\n"
      ],
      "text/plain": [
       "<rich.jupyter.JupyterRenderable at 0x7fe4ca1e7520>"
      ]
     },
     "metadata": {},
     "output_type": "display_data"
    },
    {
     "data": {
      "text/html": [
       "<pre style=\"white-space:pre;overflow-x:auto;line-height:normal;font-family:Menlo,'DejaVu Sans Mono',consolas,'Courier New',monospace\"><span style=\"color: #000080; text-decoration-color: #000080\">                                                                                           </span>  \n",
       "<span style=\"color: #000080; text-decoration-color: #000080\"> </span><span style=\"color: #000080; text-decoration-color: #000080; font-weight: bold\"> </span><span style=\"color: #008000; text-decoration-color: #008000; font-weight: bold\">✔</span><span style=\"color: #000080; text-decoration-color: #000080; font-weight: bold\">/</span><span style=\"color: #800000; text-decoration-color: #800000; font-weight: bold\">✖</span><span style=\"color: #000080; text-decoration-color: #000080; font-weight: bold\"> </span><span style=\"color: #000080; text-decoration-color: #000080\"> </span><span style=\"color: #000080; text-decoration-color: #000080; font-weight: bold\"> E-ID </span><span style=\"color: #000080; text-decoration-color: #000080\"> </span><span style=\"color: #000080; text-decoration-color: #000080; font-weight: bold\"> Date  </span><span style=\"color: #000080; text-decoration-color: #000080\"> </span><span style=\"color: #000080; text-decoration-color: #000080; font-weight: bold\"> Project </span><span style=\"color: #000080; text-decoration-color: #000080\"> </span><span style=\"color: #000080; text-decoration-color: #000080; font-weight: bold\"> Purpose       </span><span style=\"color: #000080; text-decoration-color: #000080\"> </span><span style=\"color: #000080; text-decoration-color: #000080; font-weight: bold\"> Type   </span><span style=\"color: #000080; text-decoration-color: #000080\"> </span><span style=\"color: #000080; text-decoration-color: #000080; font-weight: bold\">   </span><span style=\"color: #808000; text-decoration-color: #808000; font-weight: bold\">▶</span><span style=\"color: #000080; text-decoration-color: #000080; font-weight: bold\">   </span><span style=\"color: #000080; text-decoration-color: #000080\"> </span><span style=\"color: #000080; text-decoration-color: #000080; font-weight: bold\"> #Jobs </span><span style=\"color: #000080; text-decoration-color: #000080\"> </span><span style=\"color: #000080; text-decoration-color: #000080; font-weight: bold\"> #CPU </span><span style=\"color: #000080; text-decoration-color: #000080\"> </span><span style=\"color: #000080; text-decoration-color: #000080; font-weight: bold\"> #GPU </span><span style=\"color: #000080; text-decoration-color: #000080\"> </span><span style=\"color: #000080; text-decoration-color: #000080; font-weight: bold\"> </span><span style=\"color: #808000; text-decoration-color: #808000; font-weight: bold\">♻</span><span style=\"color: #000080; text-decoration-color: #000080; font-weight: bold\"> </span><span style=\"color: #000080; text-decoration-color: #000080\"> </span>  \n",
       "<span style=\"color: #000080; text-decoration-color: #000080\"> ───────────────────────────────────────────────────────────────────────────────────────── </span>  \n",
       "<span style=\"color: #000080; text-decoration-color: #000080\"> </span> <span style=\"color: #800080; text-decoration-color: #800080\"> ⠋ </span> <span style=\"color: #000080; text-decoration-color: #000080\"> </span> 1    <span style=\"color: #000080; text-decoration-color: #000080\"> </span> 10/29 <span style=\"color: #000080; text-decoration-color: #000080\"> </span> MNIST   <span style=\"color: #000080; text-decoration-color: #000080\"> </span> Test Protocol <span style=\"color: #000080; text-decoration-color: #000080\"> </span> search <span style=\"color: #000080; text-decoration-color: #000080\"> </span> Local <span style=\"color: #000080; text-decoration-color: #000080\"> </span>  10   <span style=\"color: #000080; text-decoration-color: #000080\"> </span>  2   <span style=\"color: #000080; text-decoration-color: #000080\"> </span>  1   <span style=\"color: #000080; text-decoration-color: #000080\"> </span> 5 <span style=\"color: #000080; text-decoration-color: #000080\"> </span>  \n",
       "<span style=\"color: #000080; text-decoration-color: #000080\">                                                                                           </span>  \n",
       "</pre>\n"
      ],
      "text/plain": [
       "<rich.jupyter.JupyterRenderable at 0x7fe4ca23abb0>"
      ]
     },
     "metadata": {},
     "output_type": "display_data"
    }
   ],
   "source": [
    "# Print a summary of the last experiments\n",
    "sub_df = protocol.summary()\n",
    "\n",
    "# ... and a more detailed version\n",
    "sub_df = protocol.summary(full=True)"
   ]
  },
  {
   "cell_type": "code",
   "execution_count": 5,
   "id": "a6ab5f12-0c06-494f-ab77-f7ea37262d0d",
   "metadata": {},
   "outputs": [
    {
     "data": {
      "text/html": [
       "<pre style=\"white-space:pre;overflow-x:auto;line-height:normal;font-family:Menlo,'DejaVu Sans Mono',consolas,'Courier New',monospace\"><span style=\"color: #000080; text-decoration-color: #000080\">                                                                 </span>                            \n",
       "<span style=\"color: #000080; text-decoration-color: #000080\"> </span><span style=\"color: #000080; text-decoration-color: #000080; font-weight: bold\"> </span><span style=\"color: #008000; text-decoration-color: #008000; font-weight: bold\">✔</span><span style=\"color: #000080; text-decoration-color: #000080; font-weight: bold\">/</span><span style=\"color: #800000; text-decoration-color: #800000; font-weight: bold\">✖</span><span style=\"color: #000080; text-decoration-color: #000080; font-weight: bold\"> </span><span style=\"color: #000080; text-decoration-color: #000080\"> </span><span style=\"color: #000080; text-decoration-color: #000080; font-weight: bold\"> E-ID </span><span style=\"color: #000080; text-decoration-color: #000080\"> </span><span style=\"color: #000080; text-decoration-color: #000080; font-weight: bold\"> Date  </span><span style=\"color: #000080; text-decoration-color: #000080\"> </span><span style=\"color: #000080; text-decoration-color: #000080; font-weight: bold\"> Project </span><span style=\"color: #000080; text-decoration-color: #000080\"> </span><span style=\"color: #000080; text-decoration-color: #000080; font-weight: bold\"> Purpose       </span><span style=\"color: #000080; text-decoration-color: #000080\"> </span><span style=\"color: #000080; text-decoration-color: #000080; font-weight: bold\"> Type   </span><span style=\"color: #000080; text-decoration-color: #000080\"> </span><span style=\"color: #000080; text-decoration-color: #000080; font-weight: bold\">   </span><span style=\"color: #808000; text-decoration-color: #808000; font-weight: bold\">▶</span><span style=\"color: #000080; text-decoration-color: #000080; font-weight: bold\">   </span><span style=\"color: #000080; text-decoration-color: #000080\"> </span>                            \n",
       "<span style=\"color: #000080; text-decoration-color: #000080\"> ─────────────────────────────────────────────────────────────── </span>                            \n",
       "<span style=\"color: #000080; text-decoration-color: #000080\"> </span>  <span style=\"color: #800000; text-decoration-color: #800000\">✖</span>  <span style=\"color: #000080; text-decoration-color: #000080\"> </span> 1    <span style=\"color: #000080; text-decoration-color: #000080\"> </span> 10/29 <span style=\"color: #000080; text-decoration-color: #000080\"> </span> MNIST   <span style=\"color: #000080; text-decoration-color: #000080\"> </span> Test Protocol <span style=\"color: #000080; text-decoration-color: #000080\"> </span> search <span style=\"color: #000080; text-decoration-color: #000080\"> </span> Slurm <span style=\"color: #000080; text-decoration-color: #000080\"> </span>                            \n",
       "<span style=\"color: #000080; text-decoration-color: #000080\">                                                                 </span>                            \n",
       "</pre>\n"
      ],
      "text/plain": [
       "<rich.jupyter.JupyterRenderable at 0x7fe4ca057670>"
      ]
     },
     "metadata": {},
     "output_type": "display_data"
    }
   ],
   "source": [
    "# Update some element in the database\n",
    "protocol.update(e_id, \"exec_resource\", \"slurm-cluster\", save=False)\n",
    "\n",
    "# Abort the experiment - changes status\n",
    "protocol.abort(e_id, save=False)\n",
    "sub_df = protocol.summary()"
   ]
  },
  {
   "cell_type": "code",
   "execution_count": 6,
   "id": "8f729b58-8ec4-4034-8e59-81afbd825f80",
   "metadata": {},
   "outputs": [
    {
     "data": {
      "text/plain": [
       "'aborted'"
      ]
     },
     "execution_count": 6,
     "metadata": {},
     "output_type": "execute_result"
    }
   ],
   "source": [
    "# Get the status of the experiment\n",
    "protocol.status(e_id)"
   ]
  },
  {
   "cell_type": "code",
   "execution_count": 8,
   "id": "25cb30e1-a36f-4307-9c6a-65a3f5c864d2",
   "metadata": {},
   "outputs": [
    {
     "data": {
      "text/plain": [
       "({'total': '1',\n",
       "  'run': '0',\n",
       "  'done': '0',\n",
       "  'aborted': '1',\n",
       "  'sge': '0',\n",
       "  'slurm': '1',\n",
       "  'gcp': '0',\n",
       "  'local': '0',\n",
       "  'report_gen': '0',\n",
       "  'gcs_stored': '0',\n",
       "  'retrieved': '0'},\n",
       " {'e_id': '1',\n",
       "  'e_dir': 'log_dir',\n",
       "  'e_type': 'hyperparameter-search',\n",
       "  'e_script': 'main.py',\n",
       "  'e_config': 'base_config.json',\n",
       "  'report_gen': False},\n",
       " {'total_jobs': 10,\n",
       "  'total_batches': 2,\n",
       "  'jobs_per_batch': 5,\n",
       "  'time_per_batch': '00:05:00',\n",
       "  'start_time': '10/29/2021 14:05:26',\n",
       "  'stop_time': '10/30/2021 00:05:26',\n",
       "  'est_duration': '00:10:00'})"
      ]
     },
     "execution_count": 8,
     "metadata": {},
     "output_type": "execute_result"
    }
   ],
   "source": [
    "# Get the monitoring data - used later in dashboard\n",
    "total_data, last_data, time_data, protocol_table = protocol.monitor()\n",
    "total_data, last_data, time_data"
   ]
  },
  {
   "cell_type": "code",
   "execution_count": null,
   "id": "63324b07-e05f-4ed6-9039-f57e26fbb124",
   "metadata": {},
   "outputs": [],
   "source": [
    "# Sync your protocol with a GCS bucket"
   ]
  },
  {
   "cell_type": "markdown",
   "id": "c74100d5-a957-4a7e-ae87-4a4626babdc4",
   "metadata": {},
   "source": [
    "# Pillar II: `MLEResource`"
   ]
  },
  {
   "cell_type": "code",
   "execution_count": null,
   "id": "fed9e8a7-74fd-4725-9bd6-31106018069d",
   "metadata": {},
   "outputs": [],
   "source": [
    "from mle_monitor import MLEResource\n",
    "\n",
    "resource = MLEResource()\n",
    "\n",
    "len(resource.monitor())\n",
    "resource.monitor()"
   ]
  },
  {
   "cell_type": "markdown",
   "id": "70353a53-f0cb-4eae-8c18-93b7ef07eb14",
   "metadata": {},
   "source": [
    "# Pillar III: MLEDashboard"
   ]
  },
  {
   "cell_type": "code",
   "execution_count": null,
   "id": "6daefdf4-0fab-4031-bc53-fa56bb8d6bb7",
   "metadata": {},
   "outputs": [],
   "source": [
    "from mle_monitor import MLEDashboard\n",
    "\n",
    "dashboard = MLEDashboard(protocol, resource)"
   ]
  },
  {
   "cell_type": "code",
   "execution_count": null,
   "id": "c65b012e-d8ef-4ef9-b8a3-8ac5098b06a5",
   "metadata": {},
   "outputs": [],
   "source": [
    "# Get a static snapshot of the protocol & resource utilisation\n",
    "dashboard.snapshot()"
   ]
  },
  {
   "cell_type": "code",
   "execution_count": null,
   "id": "a0ca1ea3-9824-47ca-92ee-f62ed3a7a3de",
   "metadata": {},
   "outputs": [],
   "source": []
  }
 ],
 "metadata": {
  "kernelspec": {
   "display_name": "Python3 (mle-toolbox)",
   "language": "python",
   "name": "mle-toolbox"
  },
  "language_info": {
   "codemirror_mode": {
    "name": "ipython",
    "version": 3
   },
   "file_extension": ".py",
   "mimetype": "text/x-python",
   "name": "python",
   "nbconvert_exporter": "python",
   "pygments_lexer": "ipython3",
   "version": "3.9.6"
  }
 },
 "nbformat": 4,
 "nbformat_minor": 5
}
