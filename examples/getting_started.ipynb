{
 "cells": [
  {
   "cell_type": "markdown",
   "id": "08f9d077-64ed-4dc3-b772-498569e96d2b",
   "metadata": {
    "tags": []
   },
   "source": [
    "# `mle-monitor`: Lightweight Resource Monitoring\n",
    "### Author: [@RobertTLange](https://twitter.com/RobertTLange) [Last Update: November 2021][![Colab](https://colab.research.google.com/assets/colab-badge.svg)](https://colab.research.google.com/github/mle-infrastructure/mle-monitor/blob/main/examples/getting_started.ipynb)\n",
    "\n",
    "<img src=\"https://github.com/mle-infrastructure/mle-monitor/blob/main/docs/mle_monitor_structure.png?raw=true\" alt=\"drawing\" width=\"900\"/>"
   ]
  },
  {
   "cell_type": "code",
   "execution_count": 53,
   "id": "a75bbcd3-11d8-4f50-a209-ef922ddc0ecf",
   "metadata": {},
   "outputs": [],
   "source": [
    "from datetime import datetime\n",
    "start_time = datetime.now().strftime(\"%m/%d/%y %I:%M %p\")\n",
    "time_t = datetime.now().strftime(\"%m/%d/%y %I:%M %p\")\n",
    "stop_time = datetime.strptime(time_t, \"%m/%d/%y %H:%M %p\")\n",
    "start_time = datetime.strptime(start_time, \"%m/%d/%y %H:%M %p\")"
   ]
  },
  {
   "cell_type": "code",
   "execution_count": 62,
   "id": "8302c4a9-1ff7-475e-bfe3-6bf90b317687",
   "metadata": {},
   "outputs": [
    {
     "data": {
      "text/plain": [
       "datetime.datetime(2021, 12, 4, 4, 10)"
      ]
     },
     "execution_count": 62,
     "metadata": {},
     "output_type": "execute_result"
    }
   ],
   "source": [
    "t = datetime.now().strftime(\"%m/%d/%y %I:%M %p\")\n",
    "dt.datetime.strptime(t, \"%m/%d/%y %H:%M %p\")"
   ]
  },
  {
   "cell_type": "code",
   "execution_count": 7,
   "id": "b1ff5d35-b29e-4386-b423-9c83ad1ae169",
   "metadata": {},
   "outputs": [
    {
     "name": "stdout",
     "output_type": "stream",
     "text": [
      "The autoreload extension is already loaded. To reload it, use:\n",
      "  %reload_ext autoreload\n"
     ]
    }
   ],
   "source": [
    "%load_ext autoreload\n",
    "%autoreload 2\n",
    "%config InlineBackend.figure_format = 'retina'\n",
    "\n",
    "try:\n",
    "    import mle_monitor\n",
    "except:\n",
    "    !pip install -q mle-monitor\n",
    "    import mle_monitor"
   ]
  },
  {
   "cell_type": "markdown",
   "id": "255b0522-6c4b-440d-8dca-345ba9e8a461",
   "metadata": {},
   "source": [
    "# Experiment Management with `MLEProtocol`"
   ]
  },
  {
   "cell_type": "code",
   "execution_count": 8,
   "id": "44a221b5-758b-491b-b206-65c3bddeeddb",
   "metadata": {},
   "outputs": [],
   "source": [
    "from mle_monitor import MLEProtocol\n",
    "\n",
    "# Load the protocol from a local file (create new if it doesn't exist yet)\n",
    "protocol = MLEProtocol(protocol_fname=\"mle_protocol.db\")"
   ]
  },
  {
   "cell_type": "code",
   "execution_count": 9,
   "id": "d65bcced-fa6f-4865-939f-b8d35203b05f",
   "metadata": {},
   "outputs": [
    {
     "data": {
      "text/plain": [
       "{'purpose': 'Test Protocol',\n",
       " 'project_name': 'MNIST',\n",
       " 'exec_resource': 'local',\n",
       " 'experiment_dir': 'log_dir',\n",
       " 'experiment_type': 'hyperparameter-search',\n",
       " 'base_fname': 'main.py',\n",
       " 'config_fname': 'base_config.json',\n",
       " 'num_seeds': 5,\n",
       " 'num_total_jobs': 10,\n",
       " 'num_jobs_per_batch': 5,\n",
       " 'num_job_batches': 2,\n",
       " 'time_per_job': '00:05:00',\n",
       " 'num_cpus': 2,\n",
       " 'num_gpus': 1,\n",
       " 'git_hash': 'f7da2f18e74dce53f72b9561baa29ef3c9dd161e',\n",
       " 'loaded_config': [{'train_config': {'lrate': 0.1},\n",
       "   'model_config': {'num_layers': 5},\n",
       "   'log_config': {'time_to_track': ['step_counter'],\n",
       "    'what_to_track': ['loss'],\n",
       "    'time_to_print': ['step_counter'],\n",
       "    'what_to_print': ['loss'],\n",
       "    'print_every_k_updates': 10,\n",
       "    'overwrite_experiment_dir': 1}}],\n",
       " 'e-hash': 'fd42ea4263abe3a5f952239371153643',\n",
       " 'retrieved_results': False,\n",
       " 'stored_in_cloud': False,\n",
       " 'report_generated': False,\n",
       " 'job_status': 'running',\n",
       " 'start_time': '12/04/2021 10:22:07',\n",
       " 'duration': '00:10:00',\n",
       " 'stop_time': '12/04/2021 20:22:07'}"
      ]
     },
     "execution_count": 9,
     "metadata": {},
     "output_type": "execute_result"
    }
   ],
   "source": [
    "meta_data = {\n",
    "        \"purpose\": \"Test Protocol\",  # Purpose of experiment\n",
    "        \"project_name\": \"MNIST\",  # Project name of experiment\n",
    "        \"exec_resource\": \"local\",  # Resource jobs are run on\n",
    "        \"experiment_dir\": \"log_dir\",  # Experiment log storage directory\n",
    "        \"experiment_type\": \"hyperparameter-search\",  # Type of experiment to run\n",
    "        \"base_fname\": \"main.py\",  # Main code script to execute\n",
    "        \"config_fname\": \"base_config.json\",  # Config file path of experiment\n",
    "        \"num_seeds\": 5,  # Number of evaluations seeds\n",
    "        \"num_total_jobs\": 10,  # Number of total jobs to run\n",
    "        \"num_jobs_per_batch\": 5,  # Number of jobs in single batch\n",
    "        \"num_job_batches\": 2,  # Number of sequential job batches\n",
    "        \"time_per_job\": \"00:05:00\",  # Expected duration: days-hours-minutes\n",
    "        \"num_cpus\": 2,  # Number of CPUs used in job\n",
    "        \"num_gpus\": 1,  # Number of GPUs used in job\n",
    "    }\n",
    "e_id = protocol.add(meta_data, save=False)\n",
    "protocol.get(e_id)"
   ]
  },
  {
   "cell_type": "code",
   "execution_count": 10,
   "id": "e13d7d30-8d6b-49d0-b3c0-427654a19383",
   "metadata": {},
   "outputs": [
    {
     "data": {
      "text/html": [
       "<pre style=\"white-space:pre;overflow-x:auto;line-height:normal;font-family:Menlo,'DejaVu Sans Mono',consolas,'Courier New',monospace\"><span style=\"color: #000080; text-decoration-color: #000080\">                                                                 </span>                            \n",
       "<span style=\"color: #000080; text-decoration-color: #000080\"> </span><span style=\"color: #000080; text-decoration-color: #000080; font-weight: bold\"> </span><span style=\"color: #008000; text-decoration-color: #008000; font-weight: bold\">✔</span><span style=\"color: #000080; text-decoration-color: #000080; font-weight: bold\">/</span><span style=\"color: #800000; text-decoration-color: #800000; font-weight: bold\">✖</span><span style=\"color: #000080; text-decoration-color: #000080; font-weight: bold\"> </span><span style=\"color: #000080; text-decoration-color: #000080\"> </span><span style=\"color: #000080; text-decoration-color: #000080; font-weight: bold\"> E-ID </span><span style=\"color: #000080; text-decoration-color: #000080\"> </span><span style=\"color: #000080; text-decoration-color: #000080; font-weight: bold\"> Date  </span><span style=\"color: #000080; text-decoration-color: #000080\"> </span><span style=\"color: #000080; text-decoration-color: #000080; font-weight: bold\"> Project </span><span style=\"color: #000080; text-decoration-color: #000080\"> </span><span style=\"color: #000080; text-decoration-color: #000080; font-weight: bold\"> Purpose       </span><span style=\"color: #000080; text-decoration-color: #000080\"> </span><span style=\"color: #000080; text-decoration-color: #000080; font-weight: bold\"> Type   </span><span style=\"color: #000080; text-decoration-color: #000080\"> </span><span style=\"color: #000080; text-decoration-color: #000080; font-weight: bold\">   </span><span style=\"color: #808000; text-decoration-color: #808000; font-weight: bold\">▶</span><span style=\"color: #000080; text-decoration-color: #000080; font-weight: bold\">   </span><span style=\"color: #000080; text-decoration-color: #000080\"> </span>                            \n",
       "<span style=\"color: #000080; text-decoration-color: #000080\"> ─────────────────────────────────────────────────────────────── </span>                            \n",
       "<span style=\"color: #000080; text-decoration-color: #000080\"> </span> <span style=\"color: #800080; text-decoration-color: #800080\"> ⠋ </span> <span style=\"color: #000080; text-decoration-color: #000080\"> </span> 4    <span style=\"color: #000080; text-decoration-color: #000080\"> </span> 12/04 <span style=\"color: #000080; text-decoration-color: #000080\"> </span> MNIST   <span style=\"color: #000080; text-decoration-color: #000080\"> </span> Test Protocol <span style=\"color: #000080; text-decoration-color: #000080\"> </span> search <span style=\"color: #000080; text-decoration-color: #000080\"> </span> Local <span style=\"color: #000080; text-decoration-color: #000080\"> </span>                            \n",
       "<span style=\"color: #000080; text-decoration-color: #000080\"> </span>  <span style=\"color: #008000; text-decoration-color: #008000\">✔</span>  <span style=\"color: #000080; text-decoration-color: #000080\"> </span> 3    <span style=\"color: #000080; text-decoration-color: #000080\"> </span> 11/24 <span style=\"color: #000080; text-decoration-color: #000080\"> </span> MNIST   <span style=\"color: #000080; text-decoration-color: #000080\"> </span> Test          <span style=\"color: #000080; text-decoration-color: #000080\"> </span> search <span style=\"color: #000080; text-decoration-color: #000080\"> </span> Local <span style=\"color: #000080; text-decoration-color: #000080\"> </span>                            \n",
       "<span style=\"color: #000080; text-decoration-color: #000080\"> </span> <span style=\"color: #800080; text-decoration-color: #800080\"> ⠋ </span> <span style=\"color: #000080; text-decoration-color: #000080\"> </span> 2    <span style=\"color: #000080; text-decoration-color: #000080\"> </span> 11/19 <span style=\"color: #000080; text-decoration-color: #000080\"> </span> MNIST   <span style=\"color: #000080; text-decoration-color: #000080\"> </span> Test Protocol <span style=\"color: #000080; text-decoration-color: #000080\"> </span> search <span style=\"color: #000080; text-decoration-color: #000080\"> </span> Local <span style=\"color: #000080; text-decoration-color: #000080\"> </span>                            \n",
       "<span style=\"color: #000080; text-decoration-color: #000080\"> </span> <span style=\"color: #800080; text-decoration-color: #800080\"> ⠋ </span> <span style=\"color: #000080; text-decoration-color: #000080\"> </span> 1    <span style=\"color: #000080; text-decoration-color: #000080\"> </span> 11/18 <span style=\"color: #000080; text-decoration-color: #000080\"> </span> MNIST   <span style=\"color: #000080; text-decoration-color: #000080\"> </span> Test Protocol <span style=\"color: #000080; text-decoration-color: #000080\"> </span> search <span style=\"color: #000080; text-decoration-color: #000080\"> </span> Local <span style=\"color: #000080; text-decoration-color: #000080\"> </span>                            \n",
       "<span style=\"color: #000080; text-decoration-color: #000080\">                                                                 </span>                            \n",
       "</pre>\n"
      ],
      "text/plain": [
       "<rich.jupyter.JupyterRenderable at 0x7fe80add03d0>"
      ]
     },
     "metadata": {},
     "output_type": "display_data"
    },
    {
     "data": {
      "text/html": [
       "<pre style=\"white-space:pre;overflow-x:auto;line-height:normal;font-family:Menlo,'DejaVu Sans Mono',consolas,'Courier New',monospace\"><span style=\"color: #000080; text-decoration-color: #000080\">                                                                                           </span>  \n",
       "<span style=\"color: #000080; text-decoration-color: #000080\"> </span><span style=\"color: #000080; text-decoration-color: #000080; font-weight: bold\"> </span><span style=\"color: #008000; text-decoration-color: #008000; font-weight: bold\">✔</span><span style=\"color: #000080; text-decoration-color: #000080; font-weight: bold\">/</span><span style=\"color: #800000; text-decoration-color: #800000; font-weight: bold\">✖</span><span style=\"color: #000080; text-decoration-color: #000080; font-weight: bold\"> </span><span style=\"color: #000080; text-decoration-color: #000080\"> </span><span style=\"color: #000080; text-decoration-color: #000080; font-weight: bold\"> E-ID </span><span style=\"color: #000080; text-decoration-color: #000080\"> </span><span style=\"color: #000080; text-decoration-color: #000080; font-weight: bold\"> Date  </span><span style=\"color: #000080; text-decoration-color: #000080\"> </span><span style=\"color: #000080; text-decoration-color: #000080; font-weight: bold\"> Project </span><span style=\"color: #000080; text-decoration-color: #000080\"> </span><span style=\"color: #000080; text-decoration-color: #000080; font-weight: bold\"> Purpose       </span><span style=\"color: #000080; text-decoration-color: #000080\"> </span><span style=\"color: #000080; text-decoration-color: #000080; font-weight: bold\"> Type   </span><span style=\"color: #000080; text-decoration-color: #000080\"> </span><span style=\"color: #000080; text-decoration-color: #000080; font-weight: bold\">   </span><span style=\"color: #808000; text-decoration-color: #808000; font-weight: bold\">▶</span><span style=\"color: #000080; text-decoration-color: #000080; font-weight: bold\">   </span><span style=\"color: #000080; text-decoration-color: #000080\"> </span><span style=\"color: #000080; text-decoration-color: #000080; font-weight: bold\"> #Jobs </span><span style=\"color: #000080; text-decoration-color: #000080\"> </span><span style=\"color: #000080; text-decoration-color: #000080; font-weight: bold\"> #CPU </span><span style=\"color: #000080; text-decoration-color: #000080\"> </span><span style=\"color: #000080; text-decoration-color: #000080; font-weight: bold\"> #GPU </span><span style=\"color: #000080; text-decoration-color: #000080\"> </span><span style=\"color: #000080; text-decoration-color: #000080; font-weight: bold\"> </span><span style=\"color: #808000; text-decoration-color: #808000; font-weight: bold\">♻</span><span style=\"color: #000080; text-decoration-color: #000080; font-weight: bold\"> </span><span style=\"color: #000080; text-decoration-color: #000080\"> </span>  \n",
       "<span style=\"color: #000080; text-decoration-color: #000080\"> ───────────────────────────────────────────────────────────────────────────────────────── </span>  \n",
       "<span style=\"color: #000080; text-decoration-color: #000080\"> </span> <span style=\"color: #800080; text-decoration-color: #800080\"> ⠋ </span> <span style=\"color: #000080; text-decoration-color: #000080\"> </span> 4    <span style=\"color: #000080; text-decoration-color: #000080\"> </span> 12/04 <span style=\"color: #000080; text-decoration-color: #000080\"> </span> MNIST   <span style=\"color: #000080; text-decoration-color: #000080\"> </span> Test Protocol <span style=\"color: #000080; text-decoration-color: #000080\"> </span> search <span style=\"color: #000080; text-decoration-color: #000080\"> </span> Local <span style=\"color: #000080; text-decoration-color: #000080\"> </span>  10   <span style=\"color: #000080; text-decoration-color: #000080\"> </span>  2   <span style=\"color: #000080; text-decoration-color: #000080\"> </span>  1   <span style=\"color: #000080; text-decoration-color: #000080\"> </span> 5 <span style=\"color: #000080; text-decoration-color: #000080\"> </span>  \n",
       "<span style=\"color: #000080; text-decoration-color: #000080\"> </span>  <span style=\"color: #008000; text-decoration-color: #008000\">✔</span>  <span style=\"color: #000080; text-decoration-color: #000080\"> </span> 3    <span style=\"color: #000080; text-decoration-color: #000080\"> </span> 11/24 <span style=\"color: #000080; text-decoration-color: #000080\"> </span> MNIST   <span style=\"color: #000080; text-decoration-color: #000080\"> </span> Test          <span style=\"color: #000080; text-decoration-color: #000080\"> </span> search <span style=\"color: #000080; text-decoration-color: #000080\"> </span> Local <span style=\"color: #000080; text-decoration-color: #000080\"> </span>  10   <span style=\"color: #000080; text-decoration-color: #000080\"> </span>  2   <span style=\"color: #000080; text-decoration-color: #000080\"> </span>  1   <span style=\"color: #000080; text-decoration-color: #000080\"> </span> 5 <span style=\"color: #000080; text-decoration-color: #000080\"> </span>  \n",
       "<span style=\"color: #000080; text-decoration-color: #000080\"> </span> <span style=\"color: #800080; text-decoration-color: #800080\"> ⠋ </span> <span style=\"color: #000080; text-decoration-color: #000080\"> </span> 2    <span style=\"color: #000080; text-decoration-color: #000080\"> </span> 11/19 <span style=\"color: #000080; text-decoration-color: #000080\"> </span> MNIST   <span style=\"color: #000080; text-decoration-color: #000080\"> </span> Test Protocol <span style=\"color: #000080; text-decoration-color: #000080\"> </span> search <span style=\"color: #000080; text-decoration-color: #000080\"> </span> Local <span style=\"color: #000080; text-decoration-color: #000080\"> </span>  10   <span style=\"color: #000080; text-decoration-color: #000080\"> </span>  2   <span style=\"color: #000080; text-decoration-color: #000080\"> </span>  1   <span style=\"color: #000080; text-decoration-color: #000080\"> </span> 5 <span style=\"color: #000080; text-decoration-color: #000080\"> </span>  \n",
       "<span style=\"color: #000080; text-decoration-color: #000080\"> </span> <span style=\"color: #800080; text-decoration-color: #800080\"> ⠋ </span> <span style=\"color: #000080; text-decoration-color: #000080\"> </span> 1    <span style=\"color: #000080; text-decoration-color: #000080\"> </span> 11/18 <span style=\"color: #000080; text-decoration-color: #000080\"> </span> MNIST   <span style=\"color: #000080; text-decoration-color: #000080\"> </span> Test Protocol <span style=\"color: #000080; text-decoration-color: #000080\"> </span> search <span style=\"color: #000080; text-decoration-color: #000080\"> </span> Local <span style=\"color: #000080; text-decoration-color: #000080\"> </span>  10   <span style=\"color: #000080; text-decoration-color: #000080\"> </span>  2   <span style=\"color: #000080; text-decoration-color: #000080\"> </span>  1   <span style=\"color: #000080; text-decoration-color: #000080\"> </span> 5 <span style=\"color: #000080; text-decoration-color: #000080\"> </span>  \n",
       "<span style=\"color: #000080; text-decoration-color: #000080\">                                                                                           </span>  \n",
       "</pre>\n"
      ],
      "text/plain": [
       "<rich.jupyter.JupyterRenderable at 0x7fe80ae22970>"
      ]
     },
     "metadata": {},
     "output_type": "display_data"
    }
   ],
   "source": [
    "# Print a summary of the last experiments\n",
    "sub_df = protocol.summary()\n",
    "\n",
    "# ... and a more detailed version\n",
    "sub_df = protocol.summary(full=True)"
   ]
  },
  {
   "cell_type": "code",
   "execution_count": 11,
   "id": "a6ab5f12-0c06-494f-ab77-f7ea37262d0d",
   "metadata": {},
   "outputs": [
    {
     "data": {
      "text/html": [
       "<pre style=\"white-space:pre;overflow-x:auto;line-height:normal;font-family:Menlo,'DejaVu Sans Mono',consolas,'Courier New',monospace\"><span style=\"color: #000080; text-decoration-color: #000080\">                                                                 </span>                            \n",
       "<span style=\"color: #000080; text-decoration-color: #000080\"> </span><span style=\"color: #000080; text-decoration-color: #000080; font-weight: bold\"> </span><span style=\"color: #008000; text-decoration-color: #008000; font-weight: bold\">✔</span><span style=\"color: #000080; text-decoration-color: #000080; font-weight: bold\">/</span><span style=\"color: #800000; text-decoration-color: #800000; font-weight: bold\">✖</span><span style=\"color: #000080; text-decoration-color: #000080; font-weight: bold\"> </span><span style=\"color: #000080; text-decoration-color: #000080\"> </span><span style=\"color: #000080; text-decoration-color: #000080; font-weight: bold\"> E-ID </span><span style=\"color: #000080; text-decoration-color: #000080\"> </span><span style=\"color: #000080; text-decoration-color: #000080; font-weight: bold\"> Date  </span><span style=\"color: #000080; text-decoration-color: #000080\"> </span><span style=\"color: #000080; text-decoration-color: #000080; font-weight: bold\"> Project </span><span style=\"color: #000080; text-decoration-color: #000080\"> </span><span style=\"color: #000080; text-decoration-color: #000080; font-weight: bold\"> Purpose       </span><span style=\"color: #000080; text-decoration-color: #000080\"> </span><span style=\"color: #000080; text-decoration-color: #000080; font-weight: bold\"> Type   </span><span style=\"color: #000080; text-decoration-color: #000080\"> </span><span style=\"color: #000080; text-decoration-color: #000080; font-weight: bold\">   </span><span style=\"color: #808000; text-decoration-color: #808000; font-weight: bold\">▶</span><span style=\"color: #000080; text-decoration-color: #000080; font-weight: bold\">   </span><span style=\"color: #000080; text-decoration-color: #000080\"> </span>                            \n",
       "<span style=\"color: #000080; text-decoration-color: #000080\"> ─────────────────────────────────────────────────────────────── </span>                            \n",
       "<span style=\"color: #000080; text-decoration-color: #000080\"> </span>  <span style=\"color: #800000; text-decoration-color: #800000\">✖</span>  <span style=\"color: #000080; text-decoration-color: #000080\"> </span> 4    <span style=\"color: #000080; text-decoration-color: #000080\"> </span> 12/04 <span style=\"color: #000080; text-decoration-color: #000080\"> </span> MNIST   <span style=\"color: #000080; text-decoration-color: #000080\"> </span> Test Protocol <span style=\"color: #000080; text-decoration-color: #000080\"> </span> search <span style=\"color: #000080; text-decoration-color: #000080\"> </span> Slurm <span style=\"color: #000080; text-decoration-color: #000080\"> </span>                            \n",
       "<span style=\"color: #000080; text-decoration-color: #000080\"> </span>  <span style=\"color: #008000; text-decoration-color: #008000\">✔</span>  <span style=\"color: #000080; text-decoration-color: #000080\"> </span> 3    <span style=\"color: #000080; text-decoration-color: #000080\"> </span> 11/24 <span style=\"color: #000080; text-decoration-color: #000080\"> </span> MNIST   <span style=\"color: #000080; text-decoration-color: #000080\"> </span> Test          <span style=\"color: #000080; text-decoration-color: #000080\"> </span> search <span style=\"color: #000080; text-decoration-color: #000080\"> </span> Local <span style=\"color: #000080; text-decoration-color: #000080\"> </span>                            \n",
       "<span style=\"color: #000080; text-decoration-color: #000080\"> </span> <span style=\"color: #800080; text-decoration-color: #800080\"> ⠋ </span> <span style=\"color: #000080; text-decoration-color: #000080\"> </span> 2    <span style=\"color: #000080; text-decoration-color: #000080\"> </span> 11/19 <span style=\"color: #000080; text-decoration-color: #000080\"> </span> MNIST   <span style=\"color: #000080; text-decoration-color: #000080\"> </span> Test Protocol <span style=\"color: #000080; text-decoration-color: #000080\"> </span> search <span style=\"color: #000080; text-decoration-color: #000080\"> </span> Local <span style=\"color: #000080; text-decoration-color: #000080\"> </span>                            \n",
       "<span style=\"color: #000080; text-decoration-color: #000080\"> </span> <span style=\"color: #800080; text-decoration-color: #800080\"> ⠋ </span> <span style=\"color: #000080; text-decoration-color: #000080\"> </span> 1    <span style=\"color: #000080; text-decoration-color: #000080\"> </span> 11/18 <span style=\"color: #000080; text-decoration-color: #000080\"> </span> MNIST   <span style=\"color: #000080; text-decoration-color: #000080\"> </span> Test Protocol <span style=\"color: #000080; text-decoration-color: #000080\"> </span> search <span style=\"color: #000080; text-decoration-color: #000080\"> </span> Local <span style=\"color: #000080; text-decoration-color: #000080\"> </span>                            \n",
       "<span style=\"color: #000080; text-decoration-color: #000080\">                                                                 </span>                            \n",
       "</pre>\n"
      ],
      "text/plain": [
       "<rich.jupyter.JupyterRenderable at 0x7fe80ac48bb0>"
      ]
     },
     "metadata": {},
     "output_type": "display_data"
    }
   ],
   "source": [
    "# Update some element in the database\n",
    "protocol.update(e_id, \"exec_resource\", \"slurm-cluster\", save=False)\n",
    "\n",
    "# Abort the experiment - changes status\n",
    "protocol.abort(e_id, save=False)\n",
    "sub_df = protocol.summary()"
   ]
  },
  {
   "cell_type": "code",
   "execution_count": 12,
   "id": "8f729b58-8ec4-4034-8e59-81afbd825f80",
   "metadata": {},
   "outputs": [
    {
     "data": {
      "text/plain": [
       "'aborted'"
      ]
     },
     "execution_count": 12,
     "metadata": {},
     "output_type": "execute_result"
    }
   ],
   "source": [
    "# Get the status of the experiment\n",
    "protocol.status(e_id)"
   ]
  },
  {
   "cell_type": "code",
   "execution_count": 13,
   "id": "25cb30e1-a36f-4307-9c6a-65a3f5c864d2",
   "metadata": {},
   "outputs": [
    {
     "data": {
      "text/plain": [
       "({'total': '4',\n",
       "  'run': '2',\n",
       "  'done': '1',\n",
       "  'aborted': '1',\n",
       "  'sge': '0',\n",
       "  'slurm': '1',\n",
       "  'gcp': '0',\n",
       "  'local': '3',\n",
       "  'report_gen': '0',\n",
       "  'gcs_stored': '1',\n",
       "  'retrieved': '0'},\n",
       " {'e_id': '4',\n",
       "  'job_status': 'aborted',\n",
       "  'e_dir': 'log_dir',\n",
       "  'e_type': 'hyperparameter-search',\n",
       "  'e_script': 'main.py',\n",
       "  'e_config': 'base_config.json',\n",
       "  'report_gen': False},\n",
       " {'num_seeds': 5,\n",
       "  'total_jobs': 10,\n",
       "  'total_batches': 2,\n",
       "  'jobs_per_batch': 5,\n",
       "  'time_per_batch': '00:05:00',\n",
       "  'start_time': '12/04/2021 10:22:07',\n",
       "  'stop_time': '12/04/2021 20:22:07',\n",
       "  'est_duration': '00:10:00'})"
      ]
     },
     "execution_count": 13,
     "metadata": {},
     "output_type": "execute_result"
    }
   ],
   "source": [
    "# Get the monitoring data - used later in dashboard\n",
    "total_data, last_data, time_data, protocol_table = protocol.monitor()\n",
    "total_data, last_data, time_data"
   ]
  },
  {
   "cell_type": "markdown",
   "id": "b2338033-85fa-4cbd-9d09-e60395a5aef4",
   "metadata": {},
   "source": [
    "# More Flexibile Storage of Additional Meta-Data\n",
    "\n",
    "You can also store other data specific to an experiment using a dictionary of data as follows:"
   ]
  },
  {
   "cell_type": "code",
   "execution_count": 15,
   "id": "046554ec-c8dd-4660-a283-b8ef464d387c",
   "metadata": {},
   "outputs": [
    {
     "data": {
      "text/plain": [
       "{'lrate': 0.0003}"
      ]
     },
     "execution_count": 15,
     "metadata": {},
     "output_type": "execute_result"
    }
   ],
   "source": [
    "extra_data = {\"extra_config\": {\"lrate\": 3e-04}}\n",
    "e_id = protocol.add(meta_data, extra_data, save=False)\n",
    "protocol.get(e_id)[\"extra_config\"]"
   ]
  },
  {
   "cell_type": "markdown",
   "id": "9ffe6828-8077-4219-9cea-9f81fb0ce10b",
   "metadata": {},
   "source": [
    "## Syncing your Protocol DB with a GCS Bucket"
   ]
  },
  {
   "cell_type": "markdown",
   "id": "7384b977-b9b3-4482-afec-dccb899ff598",
   "metadata": {},
   "source": [
    "You can also automatically sync your protocol database with a Google Cloud Storage (GCS) bucket. This will require you to have created a GCP project and a GCS bucket. Furthermore you will have to provide you `.json` authentication key path. If you don't have one yet, have a look [here](https://cloud.google.com/docs/authentication/getting-started). Alternatively, just make sure that the environment variable `GOOGLE_APPLICATION_CREDENTIALS` is set to the right path."
   ]
  },
  {
   "cell_type": "code",
   "execution_count": 18,
   "id": "63324b07-e05f-4ed6-9039-f57e26fbb124",
   "metadata": {},
   "outputs": [
    {
     "data": {
      "text/html": [
       "<pre style=\"white-space:pre;overflow-x:auto;line-height:normal;font-family:Menlo,'DejaVu Sans Mono',consolas,'Courier New',monospace\"><span style=\"color: #7fbfbf; text-decoration-color: #7fbfbf\">[10:23:18] </span>Pulled protocol from GCS bucket: mle-protocol.                 <a href=\"file:///Users/rob/Dropbox/core-code/mle-infrastructure/mle-monitor/mle_monitor/mle_protocol.py\"><span style=\"color: #7f7f7f; text-decoration-color: #7f7f7f\">mle_protocol.py</span></a><span style=\"color: #7f7f7f; text-decoration-color: #7f7f7f\">:277</span>\n",
       "</pre>\n"
      ],
      "text/plain": [
       "<rich.jupyter.JupyterRenderable at 0x7fe80ae3ce20>"
      ]
     },
     "metadata": {},
     "output_type": "display_data"
    }
   ],
   "source": [
    "# Sync your protocol with a GCS bucket\n",
    "cloud_settings = {\n",
    "    \"project_name\": \"mle-toolbox\",        # Name of your GCP project\n",
    "    \"bucket_name\": \"mle-protocol\",        # Name of your GCS bucket\n",
    "    \"protocol_fname\": \"mle_protocol.db\",  # Name of DB file in GCS bucket\n",
    "    \"use_protocol_sync\": True,            # Whether to sync the protocol\n",
    "    \"use_results_storage\": False          # Whether to upload zipped dir at completion\n",
    "}\n",
    "protocol = MLEProtocol(protocol_fname=\"mle_protocol.db\",\n",
    "                       cloud_settings=cloud_settings,\n",
    "                       verbose=True)"
   ]
  },
  {
   "cell_type": "code",
   "execution_count": 20,
   "id": "14065522-5cda-485a-95d9-be9109c92004",
   "metadata": {},
   "outputs": [
    {
     "data": {
      "text/html": [
       "<pre style=\"white-space:pre;overflow-x:auto;line-height:normal;font-family:Menlo,'DejaVu Sans Mono',consolas,'Courier New',monospace\"><span style=\"color: #7fbfbf; text-decoration-color: #7fbfbf\">[10:23:33] </span>Added experiment <span style=\"color: #000080; text-decoration-color: #000080; font-weight: bold\">4</span> to protocol.                                <a href=\"file:///Users/rob/Dropbox/core-code/mle-infrastructure/mle-monitor/mle_monitor/mle_protocol.py\"><span style=\"color: #7f7f7f; text-decoration-color: #7f7f7f\">mle_protocol.py</span></a><span style=\"color: #7f7f7f; text-decoration-color: #7f7f7f\">:125</span>\n",
       "</pre>\n"
      ],
      "text/plain": [
       "<rich.jupyter.JupyterRenderable at 0x7fe80ae22b20>"
      ]
     },
     "metadata": {},
     "output_type": "display_data"
    },
    {
     "data": {
      "text/html": [
       "<pre style=\"white-space:pre;overflow-x:auto;line-height:normal;font-family:Menlo,'DejaVu Sans Mono',consolas,'Courier New',monospace\"><span style=\"color: #7fbfbf; text-decoration-color: #7fbfbf\">[10:23:33] </span>Locally stored protocol: mle_protocol.db                        <a href=\"file:///Users/rob/Dropbox/core-code/mle-infrastructure/mle-monitor/mle_monitor/mle_protocol.py\"><span style=\"color: #7f7f7f; text-decoration-color: #7f7f7f\">mle_protocol.py</span></a><span style=\"color: #7f7f7f; text-decoration-color: #7f7f7f\">:86</span>\n",
       "</pre>\n"
      ],
      "text/plain": [
       "<rich.jupyter.JupyterRenderable at 0x7fe80ae5ee80>"
      ]
     },
     "metadata": {},
     "output_type": "display_data"
    },
    {
     "data": {
      "text/html": [
       "<pre style=\"white-space:pre;overflow-x:auto;line-height:normal;font-family:Menlo,'DejaVu Sans Mono',consolas,'Courier New',monospace\"><span style=\"color: #7fbfbf; text-decoration-color: #7fbfbf\">[10:23:34] </span>Send protocol to GCS bucket: mle-protocol.                     <a href=\"file:///Users/rob/Dropbox/core-code/mle-infrastructure/mle-monitor/mle_monitor/mle_protocol.py\"><span style=\"color: #7f7f7f; text-decoration-color: #7f7f7f\">mle_protocol.py</span></a><span style=\"color: #7f7f7f; text-decoration-color: #7f7f7f\">:261</span>\n",
       "</pre>\n"
      ],
      "text/plain": [
       "<rich.jupyter.JupyterRenderable at 0x7fe80ae62fa0>"
      ]
     },
     "metadata": {},
     "output_type": "display_data"
    },
    {
     "data": {
      "text/html": [
       "<pre style=\"white-space:pre;overflow-x:auto;line-height:normal;font-family:Menlo,'DejaVu Sans Mono',consolas,'Courier New',monospace\"><span style=\"color: #7fbfbf; text-decoration-color: #7fbfbf\">[10:23:34] </span>GCS synced protocol: mle_protocol.db                            <a href=\"file:///Users/rob/Dropbox/core-code/mle-infrastructure/mle-monitor/mle_monitor/mle_protocol.py\"><span style=\"color: #7f7f7f; text-decoration-color: #7f7f7f\">mle_protocol.py</span></a><span style=\"color: #7f7f7f; text-decoration-color: #7f7f7f\">:93</span>\n",
       "</pre>\n"
      ],
      "text/plain": [
       "<rich.jupyter.JupyterRenderable at 0x7fe80ae62340>"
      ]
     },
     "metadata": {},
     "output_type": "display_data"
    },
    {
     "data": {
      "text/html": [
       "<pre style=\"white-space:pre;overflow-x:auto;line-height:normal;font-family:Menlo,'DejaVu Sans Mono',consolas,'Courier New',monospace\"><span style=\"color: #7fbfbf; text-decoration-color: #7fbfbf\">[10:23:34] </span>Send protocol to GCS bucket: mle-protocol.                     <a href=\"file:///Users/rob/Dropbox/core-code/mle-infrastructure/mle-monitor/mle_monitor/mle_protocol.py\"><span style=\"color: #7f7f7f; text-decoration-color: #7f7f7f\">mle_protocol.py</span></a><span style=\"color: #7f7f7f; text-decoration-color: #7f7f7f\">:261</span>\n",
       "</pre>\n"
      ],
      "text/plain": [
       "<rich.jupyter.JupyterRenderable at 0x7fe80ae6f730>"
      ]
     },
     "metadata": {},
     "output_type": "display_data"
    }
   ],
   "source": [
    "e_id = protocol.add(meta_data)\n",
    "success = protocol.gcs_send()"
   ]
  },
  {
   "cell_type": "markdown",
   "id": "c74100d5-a957-4a7e-ae87-4a4626babdc4",
   "metadata": {},
   "source": [
    "# Resource Monitoring with `MLEResource`"
   ]
  },
  {
   "cell_type": "code",
   "execution_count": 22,
   "id": "fed9e8a7-74fd-4725-9bd6-31106018069d",
   "metadata": {},
   "outputs": [],
   "source": [
    "from mle_monitor import MLEResource\n",
    "\n",
    "resource = MLEResource(resource_name=\"local\")\n",
    "user_data, host_data, util_data = resource.monitor()"
   ]
  },
  {
   "cell_type": "code",
   "execution_count": 23,
   "id": "0c53b8d0-0093-4de4-868b-40f0b0652322",
   "metadata": {},
   "outputs": [
    {
     "data": {
      "text/plain": [
       "dict_keys(['pid', 'p_name', 'mem_util', 'cpu_util', 'cmdline', 'total_cpu_util', 'total_mem_util'])"
      ]
     },
     "execution_count": 23,
     "metadata": {},
     "output_type": "execute_result"
    }
   ],
   "source": [
    "user_data.keys()"
   ]
  },
  {
   "cell_type": "markdown",
   "id": "70353a53-f0cb-4eae-8c18-93b7ef07eb14",
   "metadata": {},
   "source": [
    "# Dashboard Visualization with `MLEDashboard`"
   ]
  },
  {
   "cell_type": "code",
   "execution_count": null,
   "id": "6daefdf4-0fab-4031-bc53-fa56bb8d6bb7",
   "metadata": {},
   "outputs": [],
   "source": [
    "from mle_monitor import MLEDashboard\n",
    "\n",
    "dashboard = MLEDashboard(protocol, resource)"
   ]
  },
  {
   "cell_type": "code",
   "execution_count": null,
   "id": "c65b012e-d8ef-4ef9-b8a3-8ac5098b06a5",
   "metadata": {},
   "outputs": [],
   "source": [
    "# Get a static snapshot of the protocol & resource utilisation\n",
    "dashboard.snapshot()"
   ]
  },
  {
   "cell_type": "code",
   "execution_count": null,
   "id": "a0ca1ea3-9824-47ca-92ee-f62ed3a7a3de",
   "metadata": {},
   "outputs": [],
   "source": [
    "# Run monitoring in while loop - dashboard\n",
    "dashboard.live()"
   ]
  }
 ],
 "metadata": {
  "kernelspec": {
   "display_name": "Python3 (mle-toolbox)",
   "language": "python",
   "name": "mle-toolbox"
  },
  "language_info": {
   "codemirror_mode": {
    "name": "ipython",
    "version": 3
   },
   "file_extension": ".py",
   "mimetype": "text/x-python",
   "name": "python",
   "nbconvert_exporter": "python",
   "pygments_lexer": "ipython3",
   "version": "3.9.6"
  }
 },
 "nbformat": 4,
 "nbformat_minor": 5
}
