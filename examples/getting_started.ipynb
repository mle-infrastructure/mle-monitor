{
 "cells": [
  {
   "cell_type": "markdown",
   "id": "08f9d077-64ed-4dc3-b772-498569e96d2b",
   "metadata": {
    "tags": []
   },
   "source": [
    "# `mle-monitor`: Lightweight Resource Monitoring\n",
    "### Author: [@RobertTLange](https://twitter.com/RobertTLange) [Last Update: December 2021][![Colab](https://colab.research.google.com/assets/colab-badge.svg)](https://colab.research.google.com/github/mle-infrastructure/mle-monitor/blob/main/examples/getting_started.ipynb)\n",
    "\n",
    "\"Did I already run this experiment before? How many resources are currently available on my cluster?\" If these are common questions you encounter during your daily life as a researcher, then `mle-monitor` is made for you. It provides a lightweight API for tracking your experiments using a pickle protocol database (e.g. for hyperparameter searches and/or multi-configuration/multi-seed runs). Furthermore, it comes with built-in resource monitoring on Slurm/Grid Engine clusters and local machines/servers. Finally, it leverages [`rich`](https://github.com/willmcgugan/rich) in order to provide a terminal dashboard that is updated online with new protocolled experiments and the current state of resource utilization. Here is an example of the dashboard on a Grid Engine cluster:\n",
    "\n",
    "![](../docs/monitor-promo-gif.gif)"
   ]
  },
  {
   "cell_type": "code",
   "execution_count": 18,
   "id": "b1ff5d35-b29e-4386-b423-9c83ad1ae169",
   "metadata": {},
   "outputs": [],
   "source": [
    "%load_ext autoreload\n",
    "%autoreload 2\n",
    "%config InlineBackend.figure_format = 'retina'\n",
    "\n",
    "try:\n",
    "    import mle_monitor\n",
    "except:\n",
    "    !pip install -q mle-monitor\n",
    "    import mle_monitor"
   ]
  },
  {
   "cell_type": "markdown",
   "id": "9cf5bc30-a187-4936-a57c-3023ff6b3f2a",
   "metadata": {},
   "source": [
    "`mle-monitor` comes with three core functionalities:\n",
    "\n",
    "- **`MLEProtocol`**:\n",
    "- **`MLEResource`**:\n",
    "- **`MLEDashboard`**:\n",
    "\n",
    "<img src=\"https://github.com/mle-infrastructure/mle-monitor/blob/main/docs/mle_monitor_structure.png?raw=true\" alt=\"drawing\" width=\"900\"/>\n",
    "\n",
    "\n",
    "Finally, `mle-monitor` is part of the [`mle-infrastructure`](https://github.com/mle-infrastructure) and comes with a set of handy built-in synergies. We will wrap-up by outlining a full workflow ."
   ]
  },
  {
   "cell_type": "markdown",
   "id": "255b0522-6c4b-440d-8dca-345ba9e8a461",
   "metadata": {},
   "source": [
    "# Experiment Management with `MLEProtocol`"
   ]
  },
  {
   "cell_type": "code",
   "execution_count": 19,
   "id": "44a221b5-758b-491b-b206-65c3bddeeddb",
   "metadata": {},
   "outputs": [],
   "source": [
    "from mle_monitor import MLEProtocol\n",
    "\n",
    "# Load the protocol from a local file (create new if it doesn't exist yet)\n",
    "protocol = MLEProtocol(protocol_fname=\"mle_protocol.db\")"
   ]
  },
  {
   "cell_type": "markdown",
   "id": "ef2d1797-0251-495f-8976-47a24756e79c",
   "metadata": {},
   "source": [
    "In order to add a new experiment to the protocol database you have to provide a dictionary containing the experiment meta data:\n",
    "\n",
    "| Search Type           | Description | Default |\n",
    "|----------------------- | ----------- | --------------- |\n",
    "| `purpose`          |  Purpose of experiment  | 'None provided' |\n",
    "| `project_name`        |  Project name of experiment  | 'default' |\n",
    "| `exec_resource`    |  Resource jobs are run on | 'local' |\n",
    "| `experiment_dir`  |  Experiment log storage directory   | 'experiments' |\n",
    "| `experiment_type`     | Type of experiment to run | 'single' |\n",
    "| `base_fname`     | Main code script to execute | 'main.py' |\n",
    "| `config_fname`     | Config file path of experiment | 'base_config.yaml' |\n",
    "| `num_seeds`     | Number of evaluations seeds | 1 |\n",
    "| `num_total_jobs`     | Number of total jobs to run | 1 |\n",
    "| `num_job_batches`     | Number of jobs in single batch | 1 |\n",
    "| `num_jobs_per_batch`     | Number of sequential job batches | 1 |\n",
    "| `time_per_job`     | Expected duration: days-hours-minutes | '00:01:00' |\n",
    "| `num_cpus`     | Number of CPUs used in job | 1 |\n",
    "| `num_gpus`     | Number of GPUs used in job | 0 |"
   ]
  },
  {
   "cell_type": "code",
   "execution_count": 9,
   "id": "d65bcced-fa6f-4865-939f-b8d35203b05f",
   "metadata": {},
   "outputs": [
    {
     "data": {
      "text/plain": [
       "{'purpose': 'Test Protocol',\n",
       " 'project_name': 'MNIST',\n",
       " 'exec_resource': 'local',\n",
       " 'experiment_dir': 'log_dir',\n",
       " 'experiment_type': 'hyperparameter-search',\n",
       " 'base_fname': 'main.py',\n",
       " 'config_fname': 'base_config.json',\n",
       " 'num_seeds': 5,\n",
       " 'num_total_jobs': 10,\n",
       " 'num_jobs_per_batch': 5,\n",
       " 'num_job_batches': 2,\n",
       " 'time_per_job': '00:05:00',\n",
       " 'num_cpus': 2,\n",
       " 'num_gpus': 1,\n",
       " 'git_hash': 'f7da2f18e74dce53f72b9561baa29ef3c9dd161e',\n",
       " 'loaded_config': [{'train_config': {'lrate': 0.1},\n",
       "   'model_config': {'num_layers': 5},\n",
       "   'log_config': {'time_to_track': ['step_counter'],\n",
       "    'what_to_track': ['loss'],\n",
       "    'time_to_print': ['step_counter'],\n",
       "    'what_to_print': ['loss'],\n",
       "    'print_every_k_updates': 10,\n",
       "    'overwrite_experiment_dir': 1}}],\n",
       " 'e-hash': 'fd42ea4263abe3a5f952239371153643',\n",
       " 'retrieved_results': False,\n",
       " 'stored_in_cloud': False,\n",
       " 'report_generated': False,\n",
       " 'job_status': 'running',\n",
       " 'start_time': '12/04/2021 10:22:07',\n",
       " 'duration': '00:10:00',\n",
       " 'stop_time': '12/04/2021 20:22:07'}"
      ]
     },
     "execution_count": 9,
     "metadata": {},
     "output_type": "execute_result"
    }
   ],
   "source": [
    "meta_data = {\n",
    "        \"purpose\": \"Test Protocol\",  # Purpose of experiment\n",
    "        \"project_name\": \"MNIST\",  # Project name of experiment\n",
    "        \"exec_resource\": \"local\",  # Resource jobs are run on\n",
    "        \"experiment_dir\": \"log_dir\",  # Experiment log storage directory\n",
    "        \"experiment_type\": \"hyperparameter-search\",  # Type of experiment to run\n",
    "        \"base_fname\": \"main.py\",  # Main code script to execute\n",
    "        \"config_fname\": \"base_config.json\",  # Config file path of experiment\n",
    "        \"num_seeds\": 5,  # Number of evaluations seeds\n",
    "        \"num_total_jobs\": 10,  # Number of total jobs to run\n",
    "        \"num_jobs_per_batch\": 5,  # Number of jobs in single batch\n",
    "        \"num_job_batches\": 2,  # Number of sequential job batches\n",
    "        \"time_per_job\": \"00:05:00\",  # Expected duration: days-hours-minutes\n",
    "        \"num_cpus\": 2,  # Number of CPUs used in job\n",
    "        \"num_gpus\": 1,  # Number of GPUs used in job\n",
    "    }\n",
    "e_id = protocol.add(meta_data, save=False)\n",
    "protocol.get(e_id)"
   ]
  },
  {
   "cell_type": "code",
   "execution_count": 10,
   "id": "e13d7d30-8d6b-49d0-b3c0-427654a19383",
   "metadata": {},
   "outputs": [
    {
     "data": {
      "text/html": [
       "<pre style=\"white-space:pre;overflow-x:auto;line-height:normal;font-family:Menlo,'DejaVu Sans Mono',consolas,'Courier New',monospace\"><span style=\"color: #000080; text-decoration-color: #000080\">                                                                 </span>                            \n",
       "<span style=\"color: #000080; text-decoration-color: #000080\"> </span><span style=\"color: #000080; text-decoration-color: #000080; font-weight: bold\"> </span><span style=\"color: #008000; text-decoration-color: #008000; font-weight: bold\">✔</span><span style=\"color: #000080; text-decoration-color: #000080; font-weight: bold\">/</span><span style=\"color: #800000; text-decoration-color: #800000; font-weight: bold\">✖</span><span style=\"color: #000080; text-decoration-color: #000080; font-weight: bold\"> </span><span style=\"color: #000080; text-decoration-color: #000080\"> </span><span style=\"color: #000080; text-decoration-color: #000080; font-weight: bold\"> E-ID </span><span style=\"color: #000080; text-decoration-color: #000080\"> </span><span style=\"color: #000080; text-decoration-color: #000080; font-weight: bold\"> Date  </span><span style=\"color: #000080; text-decoration-color: #000080\"> </span><span style=\"color: #000080; text-decoration-color: #000080; font-weight: bold\"> Project </span><span style=\"color: #000080; text-decoration-color: #000080\"> </span><span style=\"color: #000080; text-decoration-color: #000080; font-weight: bold\"> Purpose       </span><span style=\"color: #000080; text-decoration-color: #000080\"> </span><span style=\"color: #000080; text-decoration-color: #000080; font-weight: bold\"> Type   </span><span style=\"color: #000080; text-decoration-color: #000080\"> </span><span style=\"color: #000080; text-decoration-color: #000080; font-weight: bold\">   </span><span style=\"color: #808000; text-decoration-color: #808000; font-weight: bold\">▶</span><span style=\"color: #000080; text-decoration-color: #000080; font-weight: bold\">   </span><span style=\"color: #000080; text-decoration-color: #000080\"> </span>                            \n",
       "<span style=\"color: #000080; text-decoration-color: #000080\"> ─────────────────────────────────────────────────────────────── </span>                            \n",
       "<span style=\"color: #000080; text-decoration-color: #000080\"> </span> <span style=\"color: #800080; text-decoration-color: #800080\"> ⠋ </span> <span style=\"color: #000080; text-decoration-color: #000080\"> </span> 4    <span style=\"color: #000080; text-decoration-color: #000080\"> </span> 12/04 <span style=\"color: #000080; text-decoration-color: #000080\"> </span> MNIST   <span style=\"color: #000080; text-decoration-color: #000080\"> </span> Test Protocol <span style=\"color: #000080; text-decoration-color: #000080\"> </span> search <span style=\"color: #000080; text-decoration-color: #000080\"> </span> Local <span style=\"color: #000080; text-decoration-color: #000080\"> </span>                            \n",
       "<span style=\"color: #000080; text-decoration-color: #000080\"> </span>  <span style=\"color: #008000; text-decoration-color: #008000\">✔</span>  <span style=\"color: #000080; text-decoration-color: #000080\"> </span> 3    <span style=\"color: #000080; text-decoration-color: #000080\"> </span> 11/24 <span style=\"color: #000080; text-decoration-color: #000080\"> </span> MNIST   <span style=\"color: #000080; text-decoration-color: #000080\"> </span> Test          <span style=\"color: #000080; text-decoration-color: #000080\"> </span> search <span style=\"color: #000080; text-decoration-color: #000080\"> </span> Local <span style=\"color: #000080; text-decoration-color: #000080\"> </span>                            \n",
       "<span style=\"color: #000080; text-decoration-color: #000080\"> </span> <span style=\"color: #800080; text-decoration-color: #800080\"> ⠋ </span> <span style=\"color: #000080; text-decoration-color: #000080\"> </span> 2    <span style=\"color: #000080; text-decoration-color: #000080\"> </span> 11/19 <span style=\"color: #000080; text-decoration-color: #000080\"> </span> MNIST   <span style=\"color: #000080; text-decoration-color: #000080\"> </span> Test Protocol <span style=\"color: #000080; text-decoration-color: #000080\"> </span> search <span style=\"color: #000080; text-decoration-color: #000080\"> </span> Local <span style=\"color: #000080; text-decoration-color: #000080\"> </span>                            \n",
       "<span style=\"color: #000080; text-decoration-color: #000080\"> </span> <span style=\"color: #800080; text-decoration-color: #800080\"> ⠋ </span> <span style=\"color: #000080; text-decoration-color: #000080\"> </span> 1    <span style=\"color: #000080; text-decoration-color: #000080\"> </span> 11/18 <span style=\"color: #000080; text-decoration-color: #000080\"> </span> MNIST   <span style=\"color: #000080; text-decoration-color: #000080\"> </span> Test Protocol <span style=\"color: #000080; text-decoration-color: #000080\"> </span> search <span style=\"color: #000080; text-decoration-color: #000080\"> </span> Local <span style=\"color: #000080; text-decoration-color: #000080\"> </span>                            \n",
       "<span style=\"color: #000080; text-decoration-color: #000080\">                                                                 </span>                            \n",
       "</pre>\n"
      ],
      "text/plain": [
       "<rich.jupyter.JupyterRenderable at 0x7fe80add03d0>"
      ]
     },
     "metadata": {},
     "output_type": "display_data"
    },
    {
     "data": {
      "text/html": [
       "<pre style=\"white-space:pre;overflow-x:auto;line-height:normal;font-family:Menlo,'DejaVu Sans Mono',consolas,'Courier New',monospace\"><span style=\"color: #000080; text-decoration-color: #000080\">                                                                                           </span>  \n",
       "<span style=\"color: #000080; text-decoration-color: #000080\"> </span><span style=\"color: #000080; text-decoration-color: #000080; font-weight: bold\"> </span><span style=\"color: #008000; text-decoration-color: #008000; font-weight: bold\">✔</span><span style=\"color: #000080; text-decoration-color: #000080; font-weight: bold\">/</span><span style=\"color: #800000; text-decoration-color: #800000; font-weight: bold\">✖</span><span style=\"color: #000080; text-decoration-color: #000080; font-weight: bold\"> </span><span style=\"color: #000080; text-decoration-color: #000080\"> </span><span style=\"color: #000080; text-decoration-color: #000080; font-weight: bold\"> E-ID </span><span style=\"color: #000080; text-decoration-color: #000080\"> </span><span style=\"color: #000080; text-decoration-color: #000080; font-weight: bold\"> Date  </span><span style=\"color: #000080; text-decoration-color: #000080\"> </span><span style=\"color: #000080; text-decoration-color: #000080; font-weight: bold\"> Project </span><span style=\"color: #000080; text-decoration-color: #000080\"> </span><span style=\"color: #000080; text-decoration-color: #000080; font-weight: bold\"> Purpose       </span><span style=\"color: #000080; text-decoration-color: #000080\"> </span><span style=\"color: #000080; text-decoration-color: #000080; font-weight: bold\"> Type   </span><span style=\"color: #000080; text-decoration-color: #000080\"> </span><span style=\"color: #000080; text-decoration-color: #000080; font-weight: bold\">   </span><span style=\"color: #808000; text-decoration-color: #808000; font-weight: bold\">▶</span><span style=\"color: #000080; text-decoration-color: #000080; font-weight: bold\">   </span><span style=\"color: #000080; text-decoration-color: #000080\"> </span><span style=\"color: #000080; text-decoration-color: #000080; font-weight: bold\"> #Jobs </span><span style=\"color: #000080; text-decoration-color: #000080\"> </span><span style=\"color: #000080; text-decoration-color: #000080; font-weight: bold\"> #CPU </span><span style=\"color: #000080; text-decoration-color: #000080\"> </span><span style=\"color: #000080; text-decoration-color: #000080; font-weight: bold\"> #GPU </span><span style=\"color: #000080; text-decoration-color: #000080\"> </span><span style=\"color: #000080; text-decoration-color: #000080; font-weight: bold\"> </span><span style=\"color: #808000; text-decoration-color: #808000; font-weight: bold\">♻</span><span style=\"color: #000080; text-decoration-color: #000080; font-weight: bold\"> </span><span style=\"color: #000080; text-decoration-color: #000080\"> </span>  \n",
       "<span style=\"color: #000080; text-decoration-color: #000080\"> ───────────────────────────────────────────────────────────────────────────────────────── </span>  \n",
       "<span style=\"color: #000080; text-decoration-color: #000080\"> </span> <span style=\"color: #800080; text-decoration-color: #800080\"> ⠋ </span> <span style=\"color: #000080; text-decoration-color: #000080\"> </span> 4    <span style=\"color: #000080; text-decoration-color: #000080\"> </span> 12/04 <span style=\"color: #000080; text-decoration-color: #000080\"> </span> MNIST   <span style=\"color: #000080; text-decoration-color: #000080\"> </span> Test Protocol <span style=\"color: #000080; text-decoration-color: #000080\"> </span> search <span style=\"color: #000080; text-decoration-color: #000080\"> </span> Local <span style=\"color: #000080; text-decoration-color: #000080\"> </span>  10   <span style=\"color: #000080; text-decoration-color: #000080\"> </span>  2   <span style=\"color: #000080; text-decoration-color: #000080\"> </span>  1   <span style=\"color: #000080; text-decoration-color: #000080\"> </span> 5 <span style=\"color: #000080; text-decoration-color: #000080\"> </span>  \n",
       "<span style=\"color: #000080; text-decoration-color: #000080\"> </span>  <span style=\"color: #008000; text-decoration-color: #008000\">✔</span>  <span style=\"color: #000080; text-decoration-color: #000080\"> </span> 3    <span style=\"color: #000080; text-decoration-color: #000080\"> </span> 11/24 <span style=\"color: #000080; text-decoration-color: #000080\"> </span> MNIST   <span style=\"color: #000080; text-decoration-color: #000080\"> </span> Test          <span style=\"color: #000080; text-decoration-color: #000080\"> </span> search <span style=\"color: #000080; text-decoration-color: #000080\"> </span> Local <span style=\"color: #000080; text-decoration-color: #000080\"> </span>  10   <span style=\"color: #000080; text-decoration-color: #000080\"> </span>  2   <span style=\"color: #000080; text-decoration-color: #000080\"> </span>  1   <span style=\"color: #000080; text-decoration-color: #000080\"> </span> 5 <span style=\"color: #000080; text-decoration-color: #000080\"> </span>  \n",
       "<span style=\"color: #000080; text-decoration-color: #000080\"> </span> <span style=\"color: #800080; text-decoration-color: #800080\"> ⠋ </span> <span style=\"color: #000080; text-decoration-color: #000080\"> </span> 2    <span style=\"color: #000080; text-decoration-color: #000080\"> </span> 11/19 <span style=\"color: #000080; text-decoration-color: #000080\"> </span> MNIST   <span style=\"color: #000080; text-decoration-color: #000080\"> </span> Test Protocol <span style=\"color: #000080; text-decoration-color: #000080\"> </span> search <span style=\"color: #000080; text-decoration-color: #000080\"> </span> Local <span style=\"color: #000080; text-decoration-color: #000080\"> </span>  10   <span style=\"color: #000080; text-decoration-color: #000080\"> </span>  2   <span style=\"color: #000080; text-decoration-color: #000080\"> </span>  1   <span style=\"color: #000080; text-decoration-color: #000080\"> </span> 5 <span style=\"color: #000080; text-decoration-color: #000080\"> </span>  \n",
       "<span style=\"color: #000080; text-decoration-color: #000080\"> </span> <span style=\"color: #800080; text-decoration-color: #800080\"> ⠋ </span> <span style=\"color: #000080; text-decoration-color: #000080\"> </span> 1    <span style=\"color: #000080; text-decoration-color: #000080\"> </span> 11/18 <span style=\"color: #000080; text-decoration-color: #000080\"> </span> MNIST   <span style=\"color: #000080; text-decoration-color: #000080\"> </span> Test Protocol <span style=\"color: #000080; text-decoration-color: #000080\"> </span> search <span style=\"color: #000080; text-decoration-color: #000080\"> </span> Local <span style=\"color: #000080; text-decoration-color: #000080\"> </span>  10   <span style=\"color: #000080; text-decoration-color: #000080\"> </span>  2   <span style=\"color: #000080; text-decoration-color: #000080\"> </span>  1   <span style=\"color: #000080; text-decoration-color: #000080\"> </span> 5 <span style=\"color: #000080; text-decoration-color: #000080\"> </span>  \n",
       "<span style=\"color: #000080; text-decoration-color: #000080\">                                                                                           </span>  \n",
       "</pre>\n"
      ],
      "text/plain": [
       "<rich.jupyter.JupyterRenderable at 0x7fe80ae22970>"
      ]
     },
     "metadata": {},
     "output_type": "display_data"
    }
   ],
   "source": [
    "# Print a summary of the last experiments\n",
    "sub_df = protocol.summary()\n",
    "\n",
    "# ... and a more detailed version\n",
    "sub_df = protocol.summary(full=True)"
   ]
  },
  {
   "cell_type": "code",
   "execution_count": 11,
   "id": "a6ab5f12-0c06-494f-ab77-f7ea37262d0d",
   "metadata": {},
   "outputs": [
    {
     "data": {
      "text/html": [
       "<pre style=\"white-space:pre;overflow-x:auto;line-height:normal;font-family:Menlo,'DejaVu Sans Mono',consolas,'Courier New',monospace\"><span style=\"color: #000080; text-decoration-color: #000080\">                                                                 </span>                            \n",
       "<span style=\"color: #000080; text-decoration-color: #000080\"> </span><span style=\"color: #000080; text-decoration-color: #000080; font-weight: bold\"> </span><span style=\"color: #008000; text-decoration-color: #008000; font-weight: bold\">✔</span><span style=\"color: #000080; text-decoration-color: #000080; font-weight: bold\">/</span><span style=\"color: #800000; text-decoration-color: #800000; font-weight: bold\">✖</span><span style=\"color: #000080; text-decoration-color: #000080; font-weight: bold\"> </span><span style=\"color: #000080; text-decoration-color: #000080\"> </span><span style=\"color: #000080; text-decoration-color: #000080; font-weight: bold\"> E-ID </span><span style=\"color: #000080; text-decoration-color: #000080\"> </span><span style=\"color: #000080; text-decoration-color: #000080; font-weight: bold\"> Date  </span><span style=\"color: #000080; text-decoration-color: #000080\"> </span><span style=\"color: #000080; text-decoration-color: #000080; font-weight: bold\"> Project </span><span style=\"color: #000080; text-decoration-color: #000080\"> </span><span style=\"color: #000080; text-decoration-color: #000080; font-weight: bold\"> Purpose       </span><span style=\"color: #000080; text-decoration-color: #000080\"> </span><span style=\"color: #000080; text-decoration-color: #000080; font-weight: bold\"> Type   </span><span style=\"color: #000080; text-decoration-color: #000080\"> </span><span style=\"color: #000080; text-decoration-color: #000080; font-weight: bold\">   </span><span style=\"color: #808000; text-decoration-color: #808000; font-weight: bold\">▶</span><span style=\"color: #000080; text-decoration-color: #000080; font-weight: bold\">   </span><span style=\"color: #000080; text-decoration-color: #000080\"> </span>                            \n",
       "<span style=\"color: #000080; text-decoration-color: #000080\"> ─────────────────────────────────────────────────────────────── </span>                            \n",
       "<span style=\"color: #000080; text-decoration-color: #000080\"> </span>  <span style=\"color: #800000; text-decoration-color: #800000\">✖</span>  <span style=\"color: #000080; text-decoration-color: #000080\"> </span> 4    <span style=\"color: #000080; text-decoration-color: #000080\"> </span> 12/04 <span style=\"color: #000080; text-decoration-color: #000080\"> </span> MNIST   <span style=\"color: #000080; text-decoration-color: #000080\"> </span> Test Protocol <span style=\"color: #000080; text-decoration-color: #000080\"> </span> search <span style=\"color: #000080; text-decoration-color: #000080\"> </span> Slurm <span style=\"color: #000080; text-decoration-color: #000080\"> </span>                            \n",
       "<span style=\"color: #000080; text-decoration-color: #000080\"> </span>  <span style=\"color: #008000; text-decoration-color: #008000\">✔</span>  <span style=\"color: #000080; text-decoration-color: #000080\"> </span> 3    <span style=\"color: #000080; text-decoration-color: #000080\"> </span> 11/24 <span style=\"color: #000080; text-decoration-color: #000080\"> </span> MNIST   <span style=\"color: #000080; text-decoration-color: #000080\"> </span> Test          <span style=\"color: #000080; text-decoration-color: #000080\"> </span> search <span style=\"color: #000080; text-decoration-color: #000080\"> </span> Local <span style=\"color: #000080; text-decoration-color: #000080\"> </span>                            \n",
       "<span style=\"color: #000080; text-decoration-color: #000080\"> </span> <span style=\"color: #800080; text-decoration-color: #800080\"> ⠋ </span> <span style=\"color: #000080; text-decoration-color: #000080\"> </span> 2    <span style=\"color: #000080; text-decoration-color: #000080\"> </span> 11/19 <span style=\"color: #000080; text-decoration-color: #000080\"> </span> MNIST   <span style=\"color: #000080; text-decoration-color: #000080\"> </span> Test Protocol <span style=\"color: #000080; text-decoration-color: #000080\"> </span> search <span style=\"color: #000080; text-decoration-color: #000080\"> </span> Local <span style=\"color: #000080; text-decoration-color: #000080\"> </span>                            \n",
       "<span style=\"color: #000080; text-decoration-color: #000080\"> </span> <span style=\"color: #800080; text-decoration-color: #800080\"> ⠋ </span> <span style=\"color: #000080; text-decoration-color: #000080\"> </span> 1    <span style=\"color: #000080; text-decoration-color: #000080\"> </span> 11/18 <span style=\"color: #000080; text-decoration-color: #000080\"> </span> MNIST   <span style=\"color: #000080; text-decoration-color: #000080\"> </span> Test Protocol <span style=\"color: #000080; text-decoration-color: #000080\"> </span> search <span style=\"color: #000080; text-decoration-color: #000080\"> </span> Local <span style=\"color: #000080; text-decoration-color: #000080\"> </span>                            \n",
       "<span style=\"color: #000080; text-decoration-color: #000080\">                                                                 </span>                            \n",
       "</pre>\n"
      ],
      "text/plain": [
       "<rich.jupyter.JupyterRenderable at 0x7fe80ac48bb0>"
      ]
     },
     "metadata": {},
     "output_type": "display_data"
    }
   ],
   "source": [
    "# Update some element in the database\n",
    "protocol.update(e_id, \"exec_resource\", \"slurm-cluster\", save=False)\n",
    "\n",
    "# Abort the experiment - changes status\n",
    "protocol.abort(e_id, save=False)\n",
    "sub_df = protocol.summary()"
   ]
  },
  {
   "cell_type": "code",
   "execution_count": 12,
   "id": "8f729b58-8ec4-4034-8e59-81afbd825f80",
   "metadata": {},
   "outputs": [
    {
     "data": {
      "text/plain": [
       "'aborted'"
      ]
     },
     "execution_count": 12,
     "metadata": {},
     "output_type": "execute_result"
    }
   ],
   "source": [
    "# Get the status of the experiment\n",
    "protocol.status(e_id)"
   ]
  },
  {
   "cell_type": "code",
   "execution_count": 13,
   "id": "25cb30e1-a36f-4307-9c6a-65a3f5c864d2",
   "metadata": {},
   "outputs": [
    {
     "data": {
      "text/plain": [
       "({'total': '4',\n",
       "  'run': '2',\n",
       "  'done': '1',\n",
       "  'aborted': '1',\n",
       "  'sge': '0',\n",
       "  'slurm': '1',\n",
       "  'gcp': '0',\n",
       "  'local': '3',\n",
       "  'report_gen': '0',\n",
       "  'gcs_stored': '1',\n",
       "  'retrieved': '0'},\n",
       " {'e_id': '4',\n",
       "  'job_status': 'aborted',\n",
       "  'e_dir': 'log_dir',\n",
       "  'e_type': 'hyperparameter-search',\n",
       "  'e_script': 'main.py',\n",
       "  'e_config': 'base_config.json',\n",
       "  'report_gen': False},\n",
       " {'num_seeds': 5,\n",
       "  'total_jobs': 10,\n",
       "  'total_batches': 2,\n",
       "  'jobs_per_batch': 5,\n",
       "  'time_per_batch': '00:05:00',\n",
       "  'start_time': '12/04/2021 10:22:07',\n",
       "  'stop_time': '12/04/2021 20:22:07',\n",
       "  'est_duration': '00:10:00'})"
      ]
     },
     "execution_count": 13,
     "metadata": {},
     "output_type": "execute_result"
    }
   ],
   "source": [
    "# Get the monitoring data - used later in dashboard\n",
    "total_data, last_data, time_data, protocol_table = protocol.monitor()\n",
    "total_data, last_data, time_data"
   ]
  },
  {
   "cell_type": "markdown",
   "id": "b2338033-85fa-4cbd-9d09-e60395a5aef4",
   "metadata": {},
   "source": [
    "# More Flexibile Storage of Additional Meta-Data\n",
    "\n",
    "You can also store other data specific to an experiment using a dictionary of data as follows:"
   ]
  },
  {
   "cell_type": "code",
   "execution_count": 15,
   "id": "046554ec-c8dd-4660-a283-b8ef464d387c",
   "metadata": {},
   "outputs": [
    {
     "data": {
      "text/plain": [
       "{'lrate': 0.0003}"
      ]
     },
     "execution_count": 15,
     "metadata": {},
     "output_type": "execute_result"
    }
   ],
   "source": [
    "extra_data = {\"extra_config\": {\"lrate\": 3e-04}}\n",
    "e_id = protocol.add(meta_data, extra_data, save=False)\n",
    "protocol.get(e_id)[\"extra_config\"]"
   ]
  },
  {
   "cell_type": "markdown",
   "id": "9ffe6828-8077-4219-9cea-9f81fb0ce10b",
   "metadata": {},
   "source": [
    "## Syncing your Protocol DB with a GCS Bucket"
   ]
  },
  {
   "cell_type": "markdown",
   "id": "7384b977-b9b3-4482-afec-dccb899ff598",
   "metadata": {},
   "source": [
    "You can also automatically sync your protocol database with a Google Cloud Storage (GCS) bucket. This will require you to have created a GCP project and a GCS bucket. Furthermore you will have to provide you `.json` authentication key path. If you don't have one yet, have a look [here](https://cloud.google.com/docs/authentication/getting-started). Alternatively, just make sure that the environment variable `GOOGLE_APPLICATION_CREDENTIALS` is set to the right path."
   ]
  },
  {
   "cell_type": "code",
   "execution_count": 18,
   "id": "63324b07-e05f-4ed6-9039-f57e26fbb124",
   "metadata": {},
   "outputs": [
    {
     "data": {
      "text/html": [
       "<pre style=\"white-space:pre;overflow-x:auto;line-height:normal;font-family:Menlo,'DejaVu Sans Mono',consolas,'Courier New',monospace\"><span style=\"color: #7fbfbf; text-decoration-color: #7fbfbf\">[10:23:18] </span>Pulled protocol from GCS bucket: mle-protocol.                 <a href=\"file:///Users/rob/Dropbox/core-code/mle-infrastructure/mle-monitor/mle_monitor/mle_protocol.py\"><span style=\"color: #7f7f7f; text-decoration-color: #7f7f7f\">mle_protocol.py</span></a><span style=\"color: #7f7f7f; text-decoration-color: #7f7f7f\">:277</span>\n",
       "</pre>\n"
      ],
      "text/plain": [
       "<rich.jupyter.JupyterRenderable at 0x7fe80ae3ce20>"
      ]
     },
     "metadata": {},
     "output_type": "display_data"
    }
   ],
   "source": [
    "# Sync your protocol with a GCS bucket\n",
    "cloud_settings = {\n",
    "    \"project_name\": \"mle-toolbox\",        # Name of your GCP project\n",
    "    \"bucket_name\": \"mle-protocol\",        # Name of your GCS bucket\n",
    "    \"protocol_fname\": \"mle_protocol.db\",  # Name of DB file in GCS bucket\n",
    "    \"use_protocol_sync\": True,            # Whether to sync the protocol\n",
    "    \"use_results_storage\": False          # Whether to upload zipped dir at completion\n",
    "}\n",
    "protocol = MLEProtocol(protocol_fname=\"mle_protocol.db\",\n",
    "                       cloud_settings=cloud_settings,\n",
    "                       verbose=True)"
   ]
  },
  {
   "cell_type": "code",
   "execution_count": 20,
   "id": "14065522-5cda-485a-95d9-be9109c92004",
   "metadata": {},
   "outputs": [
    {
     "data": {
      "text/html": [
       "<pre style=\"white-space:pre;overflow-x:auto;line-height:normal;font-family:Menlo,'DejaVu Sans Mono',consolas,'Courier New',monospace\"><span style=\"color: #7fbfbf; text-decoration-color: #7fbfbf\">[10:23:33] </span>Added experiment <span style=\"color: #000080; text-decoration-color: #000080; font-weight: bold\">4</span> to protocol.                                <a href=\"file:///Users/rob/Dropbox/core-code/mle-infrastructure/mle-monitor/mle_monitor/mle_protocol.py\"><span style=\"color: #7f7f7f; text-decoration-color: #7f7f7f\">mle_protocol.py</span></a><span style=\"color: #7f7f7f; text-decoration-color: #7f7f7f\">:125</span>\n",
       "</pre>\n"
      ],
      "text/plain": [
       "<rich.jupyter.JupyterRenderable at 0x7fe80ae22b20>"
      ]
     },
     "metadata": {},
     "output_type": "display_data"
    },
    {
     "data": {
      "text/html": [
       "<pre style=\"white-space:pre;overflow-x:auto;line-height:normal;font-family:Menlo,'DejaVu Sans Mono',consolas,'Courier New',monospace\"><span style=\"color: #7fbfbf; text-decoration-color: #7fbfbf\">[10:23:33] </span>Locally stored protocol: mle_protocol.db                        <a href=\"file:///Users/rob/Dropbox/core-code/mle-infrastructure/mle-monitor/mle_monitor/mle_protocol.py\"><span style=\"color: #7f7f7f; text-decoration-color: #7f7f7f\">mle_protocol.py</span></a><span style=\"color: #7f7f7f; text-decoration-color: #7f7f7f\">:86</span>\n",
       "</pre>\n"
      ],
      "text/plain": [
       "<rich.jupyter.JupyterRenderable at 0x7fe80ae5ee80>"
      ]
     },
     "metadata": {},
     "output_type": "display_data"
    },
    {
     "data": {
      "text/html": [
       "<pre style=\"white-space:pre;overflow-x:auto;line-height:normal;font-family:Menlo,'DejaVu Sans Mono',consolas,'Courier New',monospace\"><span style=\"color: #7fbfbf; text-decoration-color: #7fbfbf\">[10:23:34] </span>Send protocol to GCS bucket: mle-protocol.                     <a href=\"file:///Users/rob/Dropbox/core-code/mle-infrastructure/mle-monitor/mle_monitor/mle_protocol.py\"><span style=\"color: #7f7f7f; text-decoration-color: #7f7f7f\">mle_protocol.py</span></a><span style=\"color: #7f7f7f; text-decoration-color: #7f7f7f\">:261</span>\n",
       "</pre>\n"
      ],
      "text/plain": [
       "<rich.jupyter.JupyterRenderable at 0x7fe80ae62fa0>"
      ]
     },
     "metadata": {},
     "output_type": "display_data"
    },
    {
     "data": {
      "text/html": [
       "<pre style=\"white-space:pre;overflow-x:auto;line-height:normal;font-family:Menlo,'DejaVu Sans Mono',consolas,'Courier New',monospace\"><span style=\"color: #7fbfbf; text-decoration-color: #7fbfbf\">[10:23:34] </span>GCS synced protocol: mle_protocol.db                            <a href=\"file:///Users/rob/Dropbox/core-code/mle-infrastructure/mle-monitor/mle_monitor/mle_protocol.py\"><span style=\"color: #7f7f7f; text-decoration-color: #7f7f7f\">mle_protocol.py</span></a><span style=\"color: #7f7f7f; text-decoration-color: #7f7f7f\">:93</span>\n",
       "</pre>\n"
      ],
      "text/plain": [
       "<rich.jupyter.JupyterRenderable at 0x7fe80ae62340>"
      ]
     },
     "metadata": {},
     "output_type": "display_data"
    },
    {
     "data": {
      "text/html": [
       "<pre style=\"white-space:pre;overflow-x:auto;line-height:normal;font-family:Menlo,'DejaVu Sans Mono',consolas,'Courier New',monospace\"><span style=\"color: #7fbfbf; text-decoration-color: #7fbfbf\">[10:23:34] </span>Send protocol to GCS bucket: mle-protocol.                     <a href=\"file:///Users/rob/Dropbox/core-code/mle-infrastructure/mle-monitor/mle_monitor/mle_protocol.py\"><span style=\"color: #7f7f7f; text-decoration-color: #7f7f7f\">mle_protocol.py</span></a><span style=\"color: #7f7f7f; text-decoration-color: #7f7f7f\">:261</span>\n",
       "</pre>\n"
      ],
      "text/plain": [
       "<rich.jupyter.JupyterRenderable at 0x7fe80ae6f730>"
      ]
     },
     "metadata": {},
     "output_type": "display_data"
    }
   ],
   "source": [
    "e_id = protocol.add(meta_data)\n",
    "success = protocol.gcs_send()"
   ]
  },
  {
   "cell_type": "markdown",
   "id": "c74100d5-a957-4a7e-ae87-4a4626babdc4",
   "metadata": {},
   "source": [
    "# Resource Monitoring with `MLEResource`"
   ]
  },
  {
   "cell_type": "code",
   "execution_count": 22,
   "id": "fed9e8a7-74fd-4725-9bd6-31106018069d",
   "metadata": {},
   "outputs": [],
   "source": [
    "from mle_monitor import MLEResource\n",
    "\n",
    "resource = MLEResource(resource_name=\"local\")\n",
    "user_data, host_data, util_data = resource.monitor()"
   ]
  },
  {
   "cell_type": "code",
   "execution_count": 23,
   "id": "0c53b8d0-0093-4de4-868b-40f0b0652322",
   "metadata": {},
   "outputs": [
    {
     "data": {
      "text/plain": [
       "dict_keys(['pid', 'p_name', 'mem_util', 'cpu_util', 'cmdline', 'total_cpu_util', 'total_mem_util'])"
      ]
     },
     "execution_count": 23,
     "metadata": {},
     "output_type": "execute_result"
    }
   ],
   "source": [
    "user_data.keys()"
   ]
  },
  {
   "cell_type": "markdown",
   "id": "260c0107-21e1-4c5b-8a84-c3cd96a91536",
   "metadata": {},
   "source": [
    "You can also monitor slurm or grid engine clusters\n",
    "```python\n",
    "resource = MLEResource(\n",
    "    resource_name=\"slurm-cluster\",\n",
    "    monitor_config={\"partitions\": [\"partition-1\", \"partition-2\"]},\n",
    ")\n",
    "resource = MLEResource(\n",
    "    resource_name=\"sge-cluster\",\n",
    "    monitor_config={\"queues\": [\"queue-1\", \"queue-2\"]}\n",
    ")\n",
    "```"
   ]
  },
  {
   "cell_type": "markdown",
   "id": "70353a53-f0cb-4eae-8c18-93b7ef07eb14",
   "metadata": {},
   "source": [
    "# Dashboard Visualization with `MLEDashboard`"
   ]
  },
  {
   "cell_type": "code",
   "execution_count": null,
   "id": "6daefdf4-0fab-4031-bc53-fa56bb8d6bb7",
   "metadata": {},
   "outputs": [],
   "source": [
    "from mle_monitor import MLEDashboard\n",
    "\n",
    "dashboard = MLEDashboard(protocol, resource)"
   ]
  },
  {
   "cell_type": "code",
   "execution_count": null,
   "id": "c65b012e-d8ef-4ef9-b8a3-8ac5098b06a5",
   "metadata": {},
   "outputs": [],
   "source": [
    "# Get a static snapshot of the protocol & resource utilisation\n",
    "dashboard.snapshot()"
   ]
  },
  {
   "cell_type": "code",
   "execution_count": null,
   "id": "a0ca1ea3-9824-47ca-92ee-f62ed3a7a3de",
   "metadata": {},
   "outputs": [],
   "source": [
    "# Run monitoring in while loop - dashboard\n",
    "dashboard.live()"
   ]
  },
  {
   "cell_type": "markdown",
   "id": "d63912fe-3c40-455a-921d-4bce4422a896",
   "metadata": {},
   "source": [
    "- Add widget animation!/screenshot"
   ]
  },
  {
   "cell_type": "markdown",
   "id": "b8467015-0f7c-4576-95c6-2c698f5e8680",
   "metadata": {},
   "source": [
    "# Integration with the MLE-Infrastructure Ecosystem 🔺"
   ]
  },
  {
   "cell_type": "code",
   "execution_count": null,
   "id": "277fcec3-11d3-4a13-81d6-bc261d6a8ebf",
   "metadata": {},
   "outputs": [],
   "source": [
    "try:\n",
    "    from mle_hyperopt import RandomSearch\n",
    "    from mle_scheduler import MLEQueue\n",
    "    from mle_logging import load_meta_log\n",
    "except:\n",
    "    !pip install -q mle-hyperopt,mle-scheduler,mle-logging\n",
    "    from mle_hyperopt import RandomSearch\n",
    "    from mle_scheduler import MLEQueue\n",
    "    from mle_logging import load_meta_log"
   ]
  },
  {
   "cell_type": "markdown",
   "id": "1c58b0ec-af23-45a4-95d9-1e54a1040476",
   "metadata": {},
   "source": [
    "We again start by adding an experiment to the protocol at launch time."
   ]
  },
  {
   "cell_type": "code",
   "execution_count": null,
   "id": "cffe7cdd-de5e-4809-9206-a9e87b76f916",
   "metadata": {},
   "outputs": [],
   "source": [
    "# Load (existing) protocol database and add experiment data\n",
    "protocol_db = MLEProtocol(\"mle_protocol.db\")\n",
    "meta_data = {\n",
    "    \"purpose\": \"random search\",  # Purpose of experiment\n",
    "    \"project_name\": \"surrogate\",  # Project name of experiment\n",
    "    \"exec_resource\": \"local\",  # Resource jobs are run on\n",
    "    \"experiment_dir\": \"logs_search\",  # Experiment log storage directory\n",
    "    \"experiment_type\": \"hyperparameter-search\",  # Type of experiment to run\n",
    "    \"base_fname\": \"train.py\",  # Main code script to execute\n",
    "    \"config_fname\": \"base_config.json\",  # Config file path of experiment\n",
    "    \"num_seeds\": 2,  # Number of evaluations seeds\n",
    "    \"num_total_jobs\": 4,  # Number of total jobs to run\n",
    "    \"num_jobs_per_batch\": 4,  # Number of jobs in single batch\n",
    "    \"num_job_batches\": 1,  # Number of sequential job batches\n",
    "    \"time_per_job\": \"00:00:02\",  # Expected duration: days-hours-minutes\n",
    "}\n",
    "new_experiment_id = protocol_db.add(meta_data)"
   ]
  },
  {
   "cell_type": "markdown",
   "id": "8ace6804-6f2b-457a-9f6d-4dc78ed912e0",
   "metadata": {},
   "source": [
    "Afterwards, we leverage `mle-hyperopt` to instantiate a random search strategy with its parameter space. We then ask for two configurations and store them as `.yaml` files in our working directory:"
   ]
  },
  {
   "cell_type": "code",
   "execution_count": null,
   "id": "7cd0cf2e-dce9-4e5f-8270-67ffa56809df",
   "metadata": {},
   "outputs": [],
   "source": [
    "# Instantiate random search class\n",
    "strategy = RandomSearch(\n",
    "    real={\"lrate\": {\"begin\": 0.1, \"end\": 0.5, \"prior\": \"log-uniform\"}},\n",
    "    integer={\"batch_size\": {\"begin\": 1, \"end\": 5, \"prior\": \"uniform\"}},\n",
    "    categorical={\"arch\": [\"mlp\", \"cnn\"]},\n",
    "    verbose=True,\n",
    ")\n",
    "\n",
    "# Ask for configurations to evaluate & run parallel eval of seeds * configs\n",
    "configs, config_fnames = strategy.ask(2, store=True)\n",
    "configs"
   ]
  },
  {
   "cell_type": "markdown",
   "id": "672d70dd-ee77-40c7-a720-e0015c78e5ed",
   "metadata": {},
   "source": [
    "Next, we can use a `MLEQueue` from `mle-scheduler` to run our training script `train.py` for our two configurations and two different random seeds. Afterwards, we merge the resulting logs into a single `meta_log.hdf5` and retrieve the mean (over seeds) test loss score for both configurations."
   ]
  },
  {
   "cell_type": "code",
   "execution_count": null,
   "id": "6b700165-75b7-4b7c-a83c-1338c1645c43",
   "metadata": {},
   "outputs": [],
   "source": [
    "queue = MLEQueue(\n",
    "    resource_to_run=\"local\",\n",
    "    job_filename=\"train.py\",\n",
    "    config_filenames=config_fnames,\n",
    "    random_seeds=[1, 2],\n",
    "    experiment_dir=\"logs_search\",\n",
    "    protocol_db=protocol_db,\n",
    ")\n",
    "queue.run()\n",
    "\n",
    "# Merge logs of random seeds & configs -> load & get final scores\n",
    "queue.merge_configs(merge_seeds=True)\n",
    "meta_log = load_meta_log(\"logs_search/meta_log.hdf5\")\n",
    "test_scores = [meta_log[r].stats.test_loss.mean[-1] for r in queue.mle_run_ids]"
   ]
  },
  {
   "cell_type": "code",
   "execution_count": null,
   "id": "fa05ce77-20e4-473e-a7ff-162b0b1b9e19",
   "metadata": {},
   "outputs": [],
   "source": [
    "# Update the hyperparameter search strategy\n",
    "strategy.tell(configs, test_scores)\n",
    "\n",
    "# Wrap up experiment (store completion time, etc.)\n",
    "protocol_db.complete(new_experiment_id)"
   ]
  }
 ],
 "metadata": {
  "kernelspec": {
   "display_name": "Python3 (mle-toolbox)",
   "language": "python",
   "name": "mle-toolbox"
  },
  "language_info": {
   "codemirror_mode": {
    "name": "ipython",
    "version": 3
   },
   "file_extension": ".py",
   "mimetype": "text/x-python",
   "name": "python",
   "nbconvert_exporter": "python",
   "pygments_lexer": "ipython3",
   "version": "3.9.6"
  }
 },
 "nbformat": 4,
 "nbformat_minor": 5
}
