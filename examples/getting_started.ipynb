{
 "cells": [
  {
   "cell_type": "markdown",
   "id": "08f9d077-64ed-4dc3-b772-498569e96d2b",
   "metadata": {
    "tags": []
   },
   "source": [
    "# `mle-monitor`: Lightweight Resource Monitoring\n",
    "### Author: [@RobertTLange](https://twitter.com/RobertTLange) [Last Update: October 2021][![Colab](https://colab.research.google.com/assets/colab-badge.svg)](https://colab.research.google.com/github/RobertTLange/mle-monitor/blob/main/examples/getting_started.ipynb)"
   ]
  },
  {
   "cell_type": "code",
   "execution_count": 1,
   "id": "b1ff5d35-b29e-4386-b423-9c83ad1ae169",
   "metadata": {},
   "outputs": [],
   "source": [
    "%load_ext autoreload\n",
    "%autoreload 2\n",
    "%config InlineBackend.figure_format = 'retina'\n",
    "\n",
    "try:\n",
    "    import mle_monitor\n",
    "except:\n",
    "    !pip install -q mle-monitor\n",
    "    import mle_monitor"
   ]
  },
  {
   "cell_type": "markdown",
   "id": "255b0522-6c4b-440d-8dca-345ba9e8a461",
   "metadata": {},
   "source": [
    "# Pillar I: `MLEProtocol`\n",
    "\n",
    "- [ ] Make data to store configurable\n",
    "    - [ ] Fixed core + variable extensions"
   ]
  },
  {
   "cell_type": "code",
   "execution_count": 2,
   "id": "44a221b5-758b-491b-b206-65c3bddeeddb",
   "metadata": {},
   "outputs": [],
   "source": [
    "from mle_monitor import MLEProtocol\n",
    "\n",
    "# Load the protocol from a local file (create new if it doesn't exist yet)\n",
    "protocol_db = MLEProtocol(protocol_fname=\"~/local_robs_mle_protocol.db\")"
   ]
  },
  {
   "cell_type": "code",
   "execution_count": 3,
   "id": "e13d7d30-8d6b-49d0-b3c0-427654a19383",
   "metadata": {},
   "outputs": [
    {
     "data": {
      "text/html": [
       "<pre style=\"white-space:pre;overflow-x:auto;line-height:normal;font-family:Menlo,'DejaVu Sans Mono',consolas,'Courier New',monospace\"><span style=\"color: #000080; text-decoration-color: #000080\">                                                                           </span>                  \n",
       "<span style=\"color: #000080; text-decoration-color: #000080\"> </span><span style=\"color: #000080; text-decoration-color: #000080; font-weight: bold\"> </span><span style=\"color: #008000; text-decoration-color: #008000; font-weight: bold\">✔</span><span style=\"color: #000080; text-decoration-color: #000080; font-weight: bold\">/</span><span style=\"color: #800000; text-decoration-color: #800000; font-weight: bold\">✖</span><span style=\"color: #000080; text-decoration-color: #000080; font-weight: bold\"> </span><span style=\"color: #000080; text-decoration-color: #000080\"> </span><span style=\"color: #000080; text-decoration-color: #000080; font-weight: bold\"> E-ID </span><span style=\"color: #000080; text-decoration-color: #000080\"> </span><span style=\"color: #000080; text-decoration-color: #000080; font-weight: bold\"> Date  </span><span style=\"color: #000080; text-decoration-color: #000080\"> </span><span style=\"color: #000080; text-decoration-color: #000080; font-weight: bold\"> Project  </span><span style=\"color: #000080; text-decoration-color: #000080\"> </span><span style=\"color: #000080; text-decoration-color: #000080; font-weight: bold\"> Purpose                </span><span style=\"color: #000080; text-decoration-color: #000080\"> </span><span style=\"color: #000080; text-decoration-color: #000080; font-weight: bold\"> Type   </span><span style=\"color: #000080; text-decoration-color: #000080\"> </span><span style=\"color: #000080; text-decoration-color: #000080; font-weight: bold\">   </span><span style=\"color: #808000; text-decoration-color: #808000; font-weight: bold\">▶</span><span style=\"color: #000080; text-decoration-color: #000080; font-weight: bold\">   </span><span style=\"color: #000080; text-decoration-color: #000080\"> </span>                  \n",
       "<span style=\"color: #000080; text-decoration-color: #000080\"> ───────────────────────────────────────────────────────────────────────── </span>                  \n",
       "<span style=\"color: #000080; text-decoration-color: #000080\"> </span>  <span style=\"color: #008000; text-decoration-color: #008000\">✔</span>  <span style=\"color: #000080; text-decoration-color: #000080\"> </span> 40   <span style=\"color: #000080; text-decoration-color: #000080\"> </span> 10/24 <span style=\"color: #000080; text-decoration-color: #000080\"> </span> examples <span style=\"color: #000080; text-decoration-color: #000080\"> </span> Test                   <span style=\"color: #000080; text-decoration-color: #000080\"> </span> search <span style=\"color: #000080; text-decoration-color: #000080\"> </span> Local <span style=\"color: #000080; text-decoration-color: #000080\"> </span>                  \n",
       "<span style=\"color: #000080; text-decoration-color: #000080\"> </span>  <span style=\"color: #008000; text-decoration-color: #008000\">✔</span>  <span style=\"color: #000080; text-decoration-color: #000080\"> </span> 36   <span style=\"color: #000080; text-decoration-color: #000080\"> </span> 10/22 <span style=\"color: #000080; text-decoration-color: #000080\"> </span> examples <span style=\"color: #000080; text-decoration-color: #000080\"> </span> Test mle-monitor       <span style=\"color: #000080; text-decoration-color: #000080\"> </span> search <span style=\"color: #000080; text-decoration-color: #000080\"> </span> Local <span style=\"color: #000080; text-decoration-color: #000080\"> </span>                  \n",
       "<span style=\"color: #000080; text-decoration-color: #000080\"> </span>  <span style=\"color: #008000; text-decoration-color: #008000\">✔</span>  <span style=\"color: #000080; text-decoration-color: #000080\"> </span> 35   <span style=\"color: #000080; text-decoration-color: #000080\"> </span> 10/20 <span style=\"color: #000080; text-decoration-color: #000080\"> </span> examples <span style=\"color: #000080; text-decoration-color: #000080\"> </span> Test report generation <span style=\"color: #000080; text-decoration-color: #000080\"> </span> search <span style=\"color: #000080; text-decoration-color: #000080\"> </span> Local <span style=\"color: #000080; text-decoration-color: #000080\"> </span>                  \n",
       "<span style=\"color: #000080; text-decoration-color: #000080\"> </span>  <span style=\"color: #008000; text-decoration-color: #008000\">✔</span>  <span style=\"color: #000080; text-decoration-color: #000080\"> </span> 33   <span style=\"color: #000080; text-decoration-color: #000080\"> </span> 10/20 <span style=\"color: #000080; text-decoration-color: #000080\"> </span> examples <span style=\"color: #000080; text-decoration-color: #000080\"> </span> Test report generation <span style=\"color: #000080; text-decoration-color: #000080\"> </span> search <span style=\"color: #000080; text-decoration-color: #000080\"> </span> Local <span style=\"color: #000080; text-decoration-color: #000080\"> </span>                  \n",
       "<span style=\"color: #000080; text-decoration-color: #000080\"> </span>  <span style=\"color: #008000; text-decoration-color: #008000\">✔</span>  <span style=\"color: #000080; text-decoration-color: #000080\"> </span> 32   <span style=\"color: #000080; text-decoration-color: #000080\"> </span> 10/20 <span style=\"color: #000080; text-decoration-color: #000080\"> </span> examples <span style=\"color: #000080; text-decoration-color: #000080\"> </span> Test report generation <span style=\"color: #000080; text-decoration-color: #000080\"> </span> search <span style=\"color: #000080; text-decoration-color: #000080\"> </span> Local <span style=\"color: #000080; text-decoration-color: #000080\"> </span>                  \n",
       "<span style=\"color: #000080; text-decoration-color: #000080\">                                                                           </span>                  \n",
       "</pre>\n"
      ],
      "text/plain": [
       "<rich.jupyter.JupyterRenderable at 0x7ffcc8a2f940>"
      ]
     },
     "metadata": {},
     "output_type": "display_data"
    }
   ],
   "source": [
    "# Print a summary of the last experiments\n",
    "sub_df = protocol_db.summary()"
   ]
  },
  {
   "cell_type": "code",
   "execution_count": 4,
   "id": "8768e19d-9954-41e2-8cce-0807112c729f",
   "metadata": {},
   "outputs": [
    {
     "data": {
      "text/plain": [
       "Index(['ID', 'Date', 'Project', 'Purpose', 'Experiment Dir', 'Status', 'Seeds', 'Resource', 'CPUs', 'GPUs', 'Type', 'Jobs'], dtype='object')"
      ]
     },
     "execution_count": 4,
     "metadata": {},
     "output_type": "execute_result"
    }
   ],
   "source": [
    "sub_df.columns"
   ]
  },
  {
   "cell_type": "markdown",
   "id": "c74100d5-a957-4a7e-ae87-4a4626babdc4",
   "metadata": {},
   "source": [
    "# Pillar II: `MLEResource`"
   ]
  },
  {
   "cell_type": "code",
   "execution_count": 6,
   "id": "fed9e8a7-74fd-4725-9bd6-31106018069d",
   "metadata": {},
   "outputs": [
    {
     "data": {
      "text/plain": [
       "({'pid': [344, 517, 518, 83350, 78665, 20659],\n",
       "  'p_name': ['loginwindow',\n",
       "   'distnoted',\n",
       "   'coreauthd',\n",
       "   'Google Chrome Helper (Renderer)',\n",
       "   'Google Chrome Helper (Renderer)',\n",
       "   'Google Chrome Helper (Renderer)'],\n",
       "  'mem_util': [399.865234375,\n",
       "   399.374234375,\n",
       "   399.079140625,\n",
       "   429.007484375,\n",
       "   428.795203125,\n",
       "   428.653671875],\n",
       "  'cpu_util': [0.0, 0.0, 0.0, 0.0, 0.0, 0.0],\n",
       "  'cmdline': [['/System/Library/CoreServices/loginwindow.app/Contents/MacOS/loginwindow',\n",
       "    'console'],\n",
       "   ['/usr/sbin/distnoted', 'agent'],\n",
       "   ['/System/Library/Frameworks/LocalAuthentication.framework/Support/coreauthd'],\n",
       "   ['/Applications/Google Chrome.app/Contents/Frameworks/Google Chrome Framework.framework/Versions/94.0.4606.81/Helpers/Google Chrome Helper (Renderer).app/Contents/MacOS/Google Chrome Helper (Renderer)',\n",
       "    '--type=renderer',\n",
       "    '--cross-origin-webassembly-module-sharing-allowed',\n",
       "    '--display-capture-permissions-policy-allowed',\n",
       "    '--field-trial-handle=1718379636,16860779851656389212,5275117625800301782,131072',\n",
       "    '--lang=en-GB',\n",
       "    '--num-raster-threads=4',\n",
       "    '--enable-zero-copy',\n",
       "    '--enable-gpu-memory-buffer-compositor-resources',\n",
       "    '--enable-main-frame-before-activation',\n",
       "    '--renderer-client-id=2987',\n",
       "    '--no-v8-untrusted-code-mitigations',\n",
       "    '--shared-files',\n",
       "    '--seatbelt-client=242'],\n",
       "   ['/Applications/Google Chrome.app/Contents/Frameworks/Google Chrome Framework.framework/Versions/94.0.4606.81/Helpers/Google Chrome Helper (Renderer).app/Contents/MacOS/Google Chrome Helper (Renderer)',\n",
       "    '--type=renderer',\n",
       "    '--cross-origin-webassembly-module-sharing-allowed',\n",
       "    '--display-capture-permissions-policy-allowed',\n",
       "    '--field-trial-handle=1718379636,16860779851656389212,5275117625800301782,131072',\n",
       "    '--lang=en-GB',\n",
       "    '--num-raster-threads=4',\n",
       "    '--enable-zero-copy',\n",
       "    '--enable-gpu-memory-buffer-compositor-resources',\n",
       "    '--enable-main-frame-before-activation',\n",
       "    '--renderer-client-id=2759',\n",
       "    '--no-v8-untrusted-code-mitigations',\n",
       "    '--shared-files',\n",
       "    '--seatbelt-client=135'],\n",
       "   ['/Applications/Google Chrome.app/Contents/Frameworks/Google Chrome Framework.framework/Versions/94.0.4606.81/Helpers/Google Chrome Helper (Renderer).app/Contents/MacOS/Google Chrome Helper (Renderer)',\n",
       "    '--type=renderer',\n",
       "    '--extension-process',\n",
       "    '--cross-origin-webassembly-module-sharing-allowed',\n",
       "    '--display-capture-permissions-policy-allowed',\n",
       "    '--field-trial-handle=1718379636,16860779851656389212,5275117625800301782,131072',\n",
       "    '--lang=en-GB',\n",
       "    '--num-raster-threads=4',\n",
       "    '--enable-zero-copy',\n",
       "    '--enable-gpu-memory-buffer-compositor-resources',\n",
       "    '--enable-main-frame-before-activation',\n",
       "    '--renderer-client-id=12',\n",
       "    '--no-v8-untrusted-code-mitigations',\n",
       "    '--shared-files',\n",
       "    '--seatbelt-client=92']],\n",
       "  'total_cpu_util': 292.0,\n",
       "  'total_mem_util': 2042.318848},\n",
       " {'core_id': array([1, 2, 3, 4, 5, 6, 7, 8]),\n",
       "  'percent_util': [17.0, 17.6, 15.0, 14.0, 3.0, 100.0, 50.0, 50.0],\n",
       "  'cpu_count': 8,\n",
       "  'logical_count': 8,\n",
       "  'gpu_id': [],\n",
       "  'gpu_name': [],\n",
       "  'gpu_load': [],\n",
       "  'gpu_mem_util': [],\n",
       "  'gpu_mem_total': [],\n",
       "  'gpu_mem_used': []},\n",
       " {'cores': 8,\n",
       "  'cores_util': 2.728,\n",
       "  'mem': 17.179869184,\n",
       "  'mem_util': 2.04140544,\n",
       "  'time_date': '10/24/21',\n",
       "  'time_hour': '16:49:11'})"
      ]
     },
     "execution_count": 6,
     "metadata": {},
     "output_type": "execute_result"
    }
   ],
   "source": [
    "from mle_monitor import MLEResource\n",
    "\n",
    "resource = MLEResource()\n",
    "\n",
    "resource.monitor()"
   ]
  },
  {
   "cell_type": "markdown",
   "id": "70353a53-f0cb-4eae-8c18-93b7ef07eb14",
   "metadata": {},
   "source": [
    "# Pillar III: MLEDashboard"
   ]
  },
  {
   "cell_type": "code",
   "execution_count": null,
   "id": "6daefdf4-0fab-4031-bc53-fa56bb8d6bb7",
   "metadata": {},
   "outputs": [],
   "source": [
    "from mle_monitor import MLEDashboard\n",
    "\n",
    "dashboard = MLEDashboard()\n",
    "\n",
    "dashboard.snapshot()"
   ]
  }
 ],
 "metadata": {
  "kernelspec": {
   "display_name": "Python3 (mle-toolbox)",
   "language": "python",
   "name": "mle-toolbox"
  },
  "language_info": {
   "codemirror_mode": {
    "name": "ipython",
    "version": 3
   },
   "file_extension": ".py",
   "mimetype": "text/x-python",
   "name": "python",
   "nbconvert_exporter": "python",
   "pygments_lexer": "ipython3",
   "version": "3.9.6"
  }
 },
 "nbformat": 4,
 "nbformat_minor": 5
}
